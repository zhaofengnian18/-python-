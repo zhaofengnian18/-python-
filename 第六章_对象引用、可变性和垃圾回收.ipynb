{
 "cells": [
  {
   "cell_type": "markdown",
   "metadata": {},
   "source": [
    "## 6.3 同一性、相等性和别名\n",
    "\n",
    "对象一旦创建，标识始终不变，可以把标识理解为对象在内存中的地址。is 运算符比较两个对象的标识，id() 函数返回对象的标识。\n",
    "\n",
    "### 6.3.1 在==和is之间选择\n",
    "\n",
    "常用is判断变量绑定的值是不是None\n",
    "x is None\n",
    "x is not None\n",
    "\n",
    "is运算符比==快\n",
    "\n",
    "a==b是语法糖，等同于a.__eq__(b)\n",
    "\n",
    "一般来说，is运算符只用来判断None，不确定用is还是==时，用==\n",
    "\n",
    "### 6.3.2 元组的相对不可变性\n",
    "\n",
    "元组存储的是对象的引用。"
   ]
  },
  {
   "cell_type": "code",
   "execution_count": 4,
   "metadata": {},
   "outputs": [
    {
     "name": "stdout",
     "output_type": "stream",
     "text": [
      "True\n",
      "4875325184\n",
      "(1, 2, [30, 40, 99])\n",
      "4875325184\n",
      "False\n"
     ]
    }
   ],
   "source": [
    "t1 = (1, 2, [30, 40])\n",
    "t2 = (1, 2, [30, 40])\n",
    "print(t1 == t2)\n",
    "\n",
    "print(id(t1[-1]))\n",
    "t1[-1].append(99)\n",
    "print(t1)\n",
    "print(id(t1[-1]))\n",
    "print(t1 == t2)"
   ]
  },
  {
   "cell_type": "markdown",
   "metadata": {},
   "source": [
    "## 6.4 默认做浅拷贝\n"
   ]
  },
  {
   "cell_type": "code",
   "execution_count": 5,
   "metadata": {},
   "outputs": [
    {
     "name": "stdout",
     "output_type": "stream",
     "text": [
      "[3, [55, 44], (7, 8, 9)]\n",
      "True\n",
      "False\n",
      "[3, [55, 44], (7, 8, 9)]\n",
      "True\n",
      "False\n"
     ]
    }
   ],
   "source": [
    "l1 = [3, [55, 44], (7, 8, 9)]\n",
    "l2 = list(l1)\n",
    "print(l2)\n",
    "print(l1 == l2)\n",
    "print(l1 is l2)\n",
    "l3 = l1[:]\n",
    "print(l3)\n",
    "print(l3 == l1)\n",
    "print(l3 is l1)"
   ]
  },
  {
   "cell_type": "markdown",
   "metadata": {},
   "source": [
    "构造函数或[:]做浅拷贝"
   ]
  },
  {
   "cell_type": "code",
   "execution_count": 8,
   "metadata": {},
   "outputs": [
    {
     "name": "stdout",
     "output_type": "stream",
     "text": [
      "l1: [3, [66, 44], (7, 8, 9), 100]\n",
      "l2: [3, [66, 44], (7, 8, 9)]\n",
      "l1: [3, [66, 44, 33, 22], (7, 8, 9), 100]\n",
      "l2: [3, [66, 44, 33, 22], (7, 8, 9, 10, 11)]\n"
     ]
    }
   ],
   "source": [
    "l1 = [3, [66, 55, 44], (7, 8, 9)]\n",
    "l2 = list(l1)\n",
    "l1.append(100)\n",
    "l1[1].remove(55)\n",
    "print('l1:', l1)\n",
    "print('l2:', l2)\n",
    "# 对于列表来说 += 是就地修改，l2[1] 和 l1[1] 是同一个列表\n",
    "l2[1] += [33, 22]\n",
    "# 对于元组来说 += 创造一个新元组，然后重新绑定给变量，等同于l2[2] = l2[2] + (10, 11),现在两个列表中的元组不是同一个了\n",
    "l2[2] += (10, 11)\n",
    "print('l1:', l1)\n",
    "print('l2:', l2)"
   ]
  },
  {
   "cell_type": "markdown",
   "metadata": {},
   "source": [
    "copy模块的copy()和deepcopy()可以为任意对象做浅拷贝和深拷贝。\n",
    "一般来说深拷贝并不简单，如果对象有循环引用，那么简单的算法会进入无限循环。\n",
    "deepcopy()会记住已经复制的对象，因此能优雅地处理循环引用。"
   ]
  },
  {
   "cell_type": "code",
   "execution_count": 10,
   "metadata": {},
   "outputs": [
    {
     "name": "stdout",
     "output_type": "stream",
     "text": [
      "[10, 20, [[...], 30]]\n",
      "[10, 20, [[...], 30]]\n"
     ]
    }
   ],
   "source": [
    "a = [10,20]\n",
    "b = [a,30]\n",
    "a.append(b)\n",
    "print(a)\n",
    "from copy import deepcopy\n",
    "c = deepcopy(a)\n",
    "print(c)"
   ]
  },
  {
   "cell_type": "markdown",
   "metadata": {},
   "source": [
    "## 6.5 函数的参数是引用时\n",
    "\n",
    "Python传参的模式是共享传参，即函数的各个形式参数获得实参中各个引用的副本。(JS也是)\n",
    "因此函数可能会修改接收到的任何可变对象。"
   ]
  },
  {
   "cell_type": "code",
   "execution_count": 15,
   "metadata": {},
   "outputs": [
    {
     "name": "stdout",
     "output_type": "stream",
     "text": [
      "3\n",
      "1 2\n",
      "[1, 2, 3, 4]\n",
      "[1, 2, 3, 4] [3, 4]\n",
      "(10, 20, 30, 40)\n",
      "(10, 20) (30, 40)\n"
     ]
    }
   ],
   "source": [
    "def f(a, b):\n",
    "    a += b\n",
    "    return a\n",
    "\n",
    "x = 1\n",
    "y = 2\n",
    "print(f(x, y))\n",
    "print(x, y)\n",
    "\n",
    "a = [1, 2]\n",
    "b = [3, 4]\n",
    "print(f(a, b))\n",
    "print(a, b)\n",
    "\n",
    "t = (10, 20)\n",
    "u = (30, 40)\n",
    "print(f(t, u))\n",
    "print(t, u)"
   ]
  },
  {
   "cell_type": "markdown",
   "metadata": {},
   "source": [
    "### 6.5.1 不要使用可变类型作为参数的默认值\n"
   ]
  },
  {
   "cell_type": "code",
   "execution_count": 27,
   "metadata": {},
   "outputs": [
    {
     "name": "stdout",
     "output_type": "stream",
     "text": [
      "['Alice', 'Bill']\n",
      "['Bill', 'Charlie']\n",
      "['Carrie']\n",
      "['Carrie']\n",
      "['Carrie', 'Dave']\n",
      "True\n",
      "['Bill', 'Charlie']\n",
      "['__annotations__', '__builtins__', '__call__', '__class__', '__closure__', '__code__', '__defaults__', '__delattr__', '__dict__', '__dir__', '__doc__', '__eq__', '__format__', '__ge__', '__get__', '__getattribute__', '__getstate__', '__globals__', '__gt__', '__hash__', '__init__', '__init_subclass__', '__kwdefaults__', '__le__', '__lt__', '__module__', '__name__', '__ne__', '__new__', '__qualname__', '__reduce__', '__reduce_ex__', '__repr__', '__setattr__', '__sizeof__', '__str__', '__subclasshook__']\n",
      "(['Carrie', 'Dave'],)\n",
      "True\n"
     ]
    }
   ],
   "source": [
    "class HauntedBus:\n",
    "    def __init__(self, passengers=[]):\n",
    "        self.passengers = passengers\n",
    "\n",
    "    def pick(self, name):\n",
    "        self.passengers.append(name)\n",
    "\n",
    "    def drop(self, name):\n",
    "        self.passengers.remove(name)\n",
    "\n",
    "bus1 = HauntedBus(['Alice', 'Bill'])\n",
    "print(bus1.passengers)\n",
    "bus1.pick('Charlie')\n",
    "bus1.drop('Alice')\n",
    "print(bus1.passengers)\n",
    "\n",
    "\n",
    "bus2 = HauntedBus()\n",
    "bus2.pick('Carrie')\n",
    "print(bus2.passengers)\n",
    "\n",
    "\n",
    "bus3 = HauntedBus()\n",
    "print(bus3.passengers)\n",
    "bus3.pick('Dave')\n",
    "\n",
    "print(bus2.passengers)\n",
    "print(bus2.passengers is bus3.passengers)\n",
    "\n",
    "print(bus1.passengers)\n",
    "\n",
    "print(dir(HauntedBus.__init__))\n",
    "print(HauntedBus.__init__.__defaults__)\n",
    "print(HauntedBus.__init__.__defaults__[0] is bus2.passengers)"
   ]
  },
  {
   "cell_type": "markdown",
   "metadata": {},
   "source": [
    "没有指定初始乘客的HauntedBus实例会共享同一个乘客列表。\n",
    "self.passengers变成了passengers的别名，而不是副本。\n",
    "默认值在定义函数时求解，因此默认值变成了函数对象的属性。所以如果默认值是可变对象，而且修改了它的值，那么后续的函数调用都会受到影响。\n",
    "\n",
    "### 6.5.2 防御可变参数\n",
    "\n",
    "如果函数收到的参数是可变的，应该谨慎考虑是否要修改传入的参数。"
   ]
  },
  {
   "cell_type": "code",
   "execution_count": 28,
   "metadata": {},
   "outputs": [
    {
     "name": "stdout",
     "output_type": "stream",
     "text": [
      "['Sue', 'Maya', 'Diana']\n"
     ]
    }
   ],
   "source": [
    "class TwilightBus:\n",
    "    def __init__(self, passengers=None):\n",
    "        if passengers is None:\n",
    "            self.passengers = []\n",
    "        else:\n",
    "            self.passengers = passengers\n",
    "            # 正确做法是做复制\n",
    "            # self.passengers = list(passengers)\n",
    "\n",
    "    def pick(self, name):\n",
    "        self.passengers.append(name)\n",
    "\n",
    "    def drop(self, name):\n",
    "        self.passengers.remove(name)\n",
    "\n",
    "basketball_team = ['Sue', 'Tina', 'Maya', 'Diana', 'Pat']\n",
    "bus = TwilightBus(basketball_team)\n",
    "bus.drop('Tina')\n",
    "bus.drop('Pat')\n",
    "print(basketball_team)"
   ]
  },
  {
   "cell_type": "markdown",
   "metadata": {},
   "source": [
    "## 6.6 del和垃圾回收\n",
    "\n",
    "对象绝不会自行销毁，然而，无法得到对象时，可能会被垃圾回收。\n",
    "\n",
    "del x 等同于 del(x)\n",
    "del语句删除引用，而不是对象。del可能导致对象被当作垃圾回收，但是仅当删除的变量保存的是对象的最后一个引用。\n",
    "重新绑定也可能导致对象的引用数量归零，导致对象被销毁。"
   ]
  },
  {
   "cell_type": "code",
   "execution_count": 29,
   "metadata": {},
   "outputs": [
    {
     "name": "stdout",
     "output_type": "stream",
     "text": [
      "[1, 2]\n"
     ]
    }
   ],
   "source": [
    "a = [1,2]\n",
    "b = a\n",
    "# 此时 [1,2]还有b的引用\n",
    "del a\n",
    "print(b)\n",
    "# 此时垃圾回收器会回收[1,2]的内存\n",
    "b = [3]"
   ]
  },
  {
   "cell_type": "markdown",
   "metadata": {},
   "source": [
    "在CPython中，垃圾回收使用的主要算法是引用计数。当引用计数归零时，对象立即就被销毁：CPython会在对象上调用__del__方法，然后释放分配给对象的内存。\n",
    "CPython2.0增加了分代垃圾回收算法，用于检测引用循环中涉及的对象组。"
   ]
  },
  {
   "cell_type": "code",
   "execution_count": 31,
   "metadata": {},
   "outputs": [
    {
     "name": "stdout",
     "output_type": "stream",
     "text": [
      "Gone with the wind...\n",
      "True\n",
      "True\n",
      "Gone with the wind...\n",
      "False\n"
     ]
    }
   ],
   "source": [
    "import weakref\n",
    "s1 = {1, 2, 3}\n",
    "s2 = s1\n",
    "def bye():\n",
    "    print('Gone with the wind...')\n",
    "\n",
    "ender = weakref.finalize(s1, bye)\n",
    "print(ender.alive)\n",
    "del s1\n",
    "print(ender.alive)\n",
    "s2 = 'spam'\n",
    "print(ender.alive)\n"
   ]
  },
  {
   "cell_type": "markdown",
   "metadata": {},
   "source": [
    "finalize是对{1, 2, 3}的弱引用，弱引用不增加对象的引用计数。\n",
    "\n",
    "## 6.8 小结\n",
    "\n",
    "对+=或*=所做的增量赋值来说，如果左边的变量绑定的是不可变对象，会生成新对象，如果是可变对象，会就地修改。"
   ]
  }
 ],
 "metadata": {
  "kernelspec": {
   "display_name": "Python 3",
   "language": "python",
   "name": "python3"
  },
  "language_info": {
   "codemirror_mode": {
    "name": "ipython",
    "version": 3
   },
   "file_extension": ".py",
   "mimetype": "text/x-python",
   "name": "python",
   "nbconvert_exporter": "python",
   "pygments_lexer": "ipython3",
   "version": "3.11.5"
  }
 },
 "nbformat": 4,
 "nbformat_minor": 2
}
