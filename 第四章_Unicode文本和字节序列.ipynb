{
 "cells": [
  {
   "cell_type": "markdown",
   "metadata": {},
   "source": [
    "# 4 Unicode文本和字节序列\n",
    "\n",
    "主要讲Unicode字符串、二进制序列，以及两者之间转换时使用的代码。\n",
    "感觉日常场景较少遇到，可以速读。\n",
    "\n",
    "# 4.2 字符问题（可略）\n",
    "\n",
    "一个字符串就是一个字符序列。在2021年，“字符”的最佳定义是Unicode字符。因此，从Python 3的str对象中获取的元素是Unicode字符，这个对象与Python 2的unicode对象类似。\n",
    "\n",
    "- 字符的标识，即码点，是0~1,114,111的数字（十进制），在Unicode标准中以4~6个十六进制数字表示，而且加前缀“U+”。例如，字母A的码点是U+0041，欧元符号的码点是U+20AC，高音谱号的码点是U+1D11E。在Unicode 6.3中（这是Python 3.4使用的版本），约10%的有效码点有对应的字符。\n",
    "\n",
    "- 字符的具体表述取决于所用的编码。编码是在码位和字节序列之间转换时使用的算法。在UTF-8编码中，A（U+0041）的码位编码成单个字节\\x41，而在UTF-16LE编码中编码成两个字节\\x41\\x00。再举个例子，欧元符号（U+20AC）在UTF-8编码中是三个字节\\xE2\\x82\\xAC，在UTF-16LE中编码成两个字节\\xAC\\x20。"
   ]
  },
  {
   "cell_type": "code",
   "execution_count": null,
   "metadata": {},
   "outputs": [],
   "source": [
    "# 编码和解码\n",
    "s = \"cafe\"\n",
    "print(len(s))\n",
    "b = s.encode('utf8')\n",
    "print(b)\n",
    "print(len(b))\n",
    "print(b.decode('utf8'))"
   ]
  },
  {
   "cell_type": "markdown",
   "metadata": {},
   "source": [
    "# 4.3 字节概要\n",
    "Python内置两种基本的二进制序列类型：Python 3引入的不可变bytes类型和Python 2.6添加的可变bytearray类型。各个字节的值介于0~255（含）之间。bytes或bytearray对象的各个元素是介于0~255之间的整数，而不像Python 2的str对象那样是单个的字符。"
   ]
  },
  {
   "cell_type": "code",
   "execution_count": null,
   "metadata": {},
   "outputs": [],
   "source": [
    "cafe = bytes('cafe', encoding='utf_8')\n",
    "print(cafe)\n",
    "print(cafe[0])\n",
    "print(cafe[:1])\n",
    "cafe_arr = bytearray(cafe)\n",
    "print(cafe_arr)\n",
    "print(cafe_arr[-1:])"
   ]
  },
  {
   "cell_type": "markdown",
   "metadata": {},
   "source": [
    "二进制序列的字面量标识法表明其中含有ASCII字符\n",
    "\n",
    "- 十进制代码在32-126范围内的字节（从空格到波浪号~），使用ASCII字符本身。\n",
    "- 制表符、换行符、回车符和\\对应的字节，使用转义序列\\t、\\n、\\r和\\\\。\n",
    "- 如果字节序列同时包含两种字符串分隔符'和\",整个序列使用'间隔，序列内的'转义为\\'。\n",
    "- 其他字节的值，使用十六进制转义序列（例如，\\x00是空字节）。\n",
    "\n",
    "构建bytes或bytearray对象还可以调用各自的构造方法，传入下述参数。\n",
    "- 一个str对象和一个encoding关键字参数。\n",
    "- 一个可迭代对象，提供0~255之间的数值。\n",
    "- 一个实现了缓冲协议的对象（如bytes、bytearray、memoryview、array.array），此时把源对象中的字节序列复制到新建的二进制序列中。\n",
    "\n",
    "# 4.4 基本的编码加码器\n",
    "Python自带了超过100种编解码器（codec，encoder/decoder，编码器/解码器），用于在文本和字节之间相互转换。每个编解码器都有一个名称，如'utf_8'，并且经常有几个别名，如'utf8'、'utf-8'和'U8'。这些名称可以传给open()、str.encode()、bytes.decode()等函数的encoding参数。"
   ]
  },
  {
   "cell_type": "code",
   "execution_count": null,
   "metadata": {},
   "outputs": [],
   "source": [
    "for codec in ['latin_1', 'utf_8', 'utf_16']:\n",
    "    print(codec, 'El Niño'.encode(codec), sep='\\t')"
   ]
  },
  {
   "cell_type": "markdown",
   "metadata": {},
   "source": [
    "一些典型编码（简单了解即可）\n",
    "- latin1（又名ISO8859-1） 重要，其他编码的基础\n",
    "- cp1252（微软在Windows中的latin1超集）\n",
    "- cp437（早期IBM PC的字符集）\n",
    "- gb2312（简体中文，编码中文字符）\n",
    "- utf-8 Web最常用的8位编码（重要了解）\n",
    "- utf-16le UTF16位编码方案的一种形式\n",
    "\n",
    "# 4.5 处理编码和解码问题\n",
    "\n",
    "UnicodeEncodeError：把str转换成二进制序列时报错，目标编码没有定义某个字符。\n",
    "UnicodeDecodeError：把二进制序列转换成str时报错。\n",
    "如果源码的编码与预期不符，加载Python模块时还可能抛出SyntaxError。\n",
    "\n",
    "## 4.5.1 处理UnicodeEncodeError"
   ]
  },
  {
   "cell_type": "code",
   "execution_count": null,
   "metadata": {},
   "outputs": [],
   "source": [
    "city = 'São Paulo'\n",
    "print(city.encode('utf_8'))\n",
    "print(city.encode('utf_16'))\n",
    "\n",
    "print(city.encode('iso8859_1'))\n",
    "\n",
    "try:\n",
    "    city.encode('cp437')\n",
    "except UnicodeEncodeError as e:\n",
    "    print(e)\n",
    "# 跳过无法编码的字符，不好\n",
    "print(city.encode('cp437', errors='ignore'))\n",
    "# 用？替换无法编码的字符，也不太好\n",
    "print(city.encode('cp437', errors='replace'))\n",
    "# 把无法编码的字符替换成xml实体\n",
    "print(city.encode('cp437', errors='xmlcharrefreplace'))\n",
    "\n",
    "# 可以用str.isascii()方法检查是否有非ASCII字符，只要都是ASCII就一定可以编码成功\n",
    "print(city.isascii())"
   ]
  },
  {
   "cell_type": "markdown",
   "metadata": {},
   "source": [
    "## 4.5.2 处理UnicodeDecodeError\n",
    "\n",
    "并非所有的字节序列都是有效的UTF-8或者UTF-16码点。因此如果遇到无法转换的字节序列时将抛出UnicodeDecodeError。\n",
    "老的8位编码能解码任何字节序列流但是有可能生成乱码。\n"
   ]
  },
  {
   "cell_type": "code",
   "execution_count": null,
   "metadata": {},
   "outputs": [],
   "source": [
    "# latin1编码单词 Montréal\n",
    "octets = b'Montr\\xe9al'\n",
    "# cp1252是latin1的超集所以可以解码成功\n",
    "print(octets.decode('cp1252'))\n",
    "# iso8859_7是希腊文字符集，所以解码失败\n",
    "print(octets.decode('iso8859_7'))\n",
    "# koi8_r是俄文字符集，\\xe9表示西里尔字母 “N 打不出来像这个大N\"\n",
    "print(octets.decode('koi8_r'))\n",
    "try:\n",
    "    # utf_8解码失败，因为\\xe9不是有效的utf_8编码\n",
    "    octets.decode('utf_8')\n",
    "except UnicodeDecodeError as e:\n",
    "    print(e)\n",
    "# 用replace替换无效字符\n",
    "octets.decode('utf_8', errors='replace')"
   ]
  },
  {
   "cell_type": "markdown",
   "metadata": {},
   "source": [
    "## 4.5.3 加载模块时编码不符合预期抛出的SyntaxError\n",
    "\n",
    "Python3默认使用UTF-8编码源码，Python2则默认使用ASCII。如果加载的.py模块中包含UTF-8之外的数据，而且没有声明编码，Python3会报SyntaxError错误。\n",
    "可以在文件顶部加上如下注释，声明源码的编码。\n",
    "```python\n",
    "# coding: cp1252\n",
    "```\n",
    "\n",
    "## 4.5.4 如何找出字节序列的编码\n",
    "\n",
    "如何找出字节序列的编码？不能，只能别人告知。\n",
    "HTTP和XML等协议通常会在首部明确指明内容编码。如果字节流中有大于127的字节值，肯定不是ASCII编码。\n",
    "如果b'\\x00'字节经常出现，可能是16位或者32位编码。\n",
    "如果b'\\x20\\x00'字节经常出现，可能是UTF-16LE编码。\n",
    "\n",
    "python包Chardet可以推测字节序列的编码，支持30种编码。\n",
    "\n",
    "## 4.5.5 BOM：有用的鬼符\n",
    "\n",
    "BOM（Byte Order Mark，字节序标记）是位于Unicode文本开头的特殊编码。BOM的作用是声明Unicode文本的编码。\n",
    "\n",
    "# 4.6 处理文本文件\n",
    "Unicode三明治：尽早把输入（例如读取文件时）的字节序列解码成字符串，尽量晚地把字符串编码成字节序列（例如写入文件时）。\n",
    "需要在多台设备或者多种场合下运行代码，打开文件时要始终明确传入encoding=参数。\n"
   ]
  },
  {
   "cell_type": "code",
   "execution_count": null,
   "metadata": {},
   "outputs": [],
   "source": [
    "open('cafe.txt', 'w', encoding='utf_8').write('café')"
   ]
  },
  {
   "cell_type": "markdown",
   "metadata": {},
   "source": [
    "# 4.7 为了正确比较而规范化Unicode字符串\n",
    "因为Unicode有组合字符，变音符和附加到前一个字符上的其他记号，打印时作为一个整体，所以字符串比较起来很复杂。\n",
    "使用unicodedata.normalize()函数，该函数的第一个参数是这4个字符串中的一个：'NFC'、'NFD'、'NFKC'和'NFKD'。第二个参数是要处理的文本。\n",
    "NFC(Normalization Form C)使用最少的码点构成等价的字符串，而NFD把合成字符分解成基字符和单独的组合字符。"
   ]
  },
  {
   "cell_type": "code",
   "execution_count": null,
   "metadata": {},
   "outputs": [],
   "source": [
    "from unicodedata import normalize\n",
    "s1 = 'café'\n",
    "s2 = 'cafe\\N{COMBINING ACUTE ACCENT}'\n",
    "print(len(s1))\n",
    "print(len(s2))\n",
    "print(len(normalize('NFC', s1)))\n",
    "print(len(normalize('NFC', s2)))\n",
    "print(len(normalize('NFD', s1)))\n",
    "print(len(normalize('NFD', s2)))\n",
    "print(normalize('NFC', s1) == normalize('NFC', s2))\n",
    "print(normalize('NFD', s1) == normalize('NFD', s2))"
   ]
  },
  {
   "cell_type": "markdown",
   "metadata": {},
   "source": [
    "用户输入默认是NFC形式。保存文本时最好使用normaize('NFC', user_text)。\n",
    "另外两种感觉用处不大，这里不做记录。\n",
    "\n",
    "## 4.7.1 大小写同一化\n",
    "大小写同一化是把所有文本变成小写，再做其他转换。由str.casefold()方法实现，它与lower()方法效果类似，但是对于某些地区的特殊字符，casefold()处理得更彻底。"
   ]
  },
  {
   "cell_type": "code",
   "execution_count": null,
   "metadata": {},
   "outputs": [],
   "source": [
    "from unicodedata import name\n",
    "micro = 'μ'\n",
    "print(name(micro))\n",
    "micro_cf = micro.casefold()\n",
    "print(name(micro_cf))"
   ]
  },
  {
   "cell_type": "markdown",
   "metadata": {},
   "source": [
    "## 4.7.2 规范化文本匹配实用函数\n",
    "如果需要处理多语言文本，下列函数是有用的。"
   ]
  },
  {
   "cell_type": "code",
   "execution_count": null,
   "metadata": {},
   "outputs": [],
   "source": [
    "from unicodedata import normalize\n",
    "def nfc_equal(str1, str2):\n",
    "    return normalize('NFC', str1) == normalize('NFC', str2)\n",
    "\n",
    "def fold_equal(str1, str2):\n",
    "    return (normalize('NFC', str1).casefold() ==\n",
    "            normalize('NFC', str2).casefold())"
   ]
  },
  {
   "cell_type": "markdown",
   "metadata": {},
   "source": [
    "## 4.7.3 极端“规范化”：去掉变音符号"
   ]
  },
  {
   "cell_type": "code",
   "execution_count": null,
   "metadata": {},
   "outputs": [],
   "source": [
    "import unicodedata\n",
    "import string\n",
    "\n",
    "def shave_marks(txt):\n",
    "    \"\"\"把所有的组合字符删除\"\"\"\n",
    "    norm_txt = unicodedata.normalize('NFD', txt)\n",
    "    shaved = ''.join(c for c in norm_txt\n",
    "                     if not unicodedata.combining(c))\n",
    "    return unicodedata.normalize('NFC', shaved)\n",
    "\n",
    "def shave_marks_latin(txt):\n",
    "    \"\"\"把拉丁基字符中所有的变音符号删除\"\"\"\n",
    "    norm_txt = unicodedata.normalize('NFD', txt)\n",
    "    latin_base = False\n",
    "    keepers = []\n",
    "    for c in norm_txt:\n",
    "        # ord(c)返回一个字符的Unicode码位\n",
    "        if unicodedata.combining(c) and latin_base:\n",
    "            continue\n",
    "        keepers.append(c)\n",
    "        # 如果不是组合字符，那就是新的基字符\n",
    "        if not unicodedata.combining(c):\n",
    "            latin_base = c in string.ascii_letters\n",
    "    shaved = ''.join(keepers)\n",
    "    return unicodedata.normalize('NFC', shaved)"
   ]
  },
  {
   "cell_type": "markdown",
   "metadata": {},
   "source": [
    "# 4.8 Unicode文本排序\n",
    "对字符串来说，排序时比较的是码点。但是一旦遇到非ASCII字符，就会出现问题。\n",
    "在python中，非ASCII文本的标准排序方式是使用locale.strxfrm函数。\n"
   ]
  },
  {
   "cell_type": "code",
   "execution_count": null,
   "metadata": {},
   "outputs": [],
   "source": [
    "import locale\n",
    "my_locale = locale.setlocale(locale.LC_COLLATE, 'pt_BR.UTF-8')\n",
    "print(my_locale)\n",
    "# 本地化比较\n",
    "fruits = ['caju', 'atemoia', 'cajá', 'açaí', 'acerola']\n",
    "print(sorted(fruits, key=locale.strxfrm))"
   ]
  },
  {
   "cell_type": "markdown",
   "metadata": {},
   "source": [
    "可以使用pyuca库，它是Unicode排序算法的纯Python实现，支持多种语言。"
   ]
  },
  {
   "cell_type": "code",
   "execution_count": null,
   "metadata": {},
   "outputs": [],
   "source": [
    "# import pyuca\n",
    "# coll = pyuca.Collator()\n",
    "# fruits = ['caju', 'atemoia', 'cajá', 'açaí', 'acerola']\n",
    "# print(sorted(fruits, key=coll.sort_key))"
   ]
  },
  {
   "cell_type": "markdown",
   "metadata": {},
   "source": [
    "# 4.9 Unicode数据库\n",
    "Unicode标准提供了一个完整的数据库，不仅包括码点与字符名称的映射，还包括各个字符的元数据以及字符之间的关系。\n",
    "## 4.9.1 按名称查找字符"
   ]
  },
  {
   "cell_type": "code",
   "execution_count": 17,
   "metadata": {},
   "outputs": [
    {
     "name": "stdout",
     "output_type": "stream",
     "text": [
      "LATIN CAPITAL LETTER A\n"
     ]
    }
   ],
   "source": [
    "from unicodedata import name\n",
    "print(name('A'))"
   ]
  },
  {
   "cell_type": "markdown",
   "metadata": {},
   "source": [
    "## 4.9.2 字符的数值意义\n",
    "unicodedata中有几个函数可以检查Unicode字符是不是表示数值，如果是的话还可以返回对应的数值。"
   ]
  },
  {
   "cell_type": "code",
   "execution_count": 18,
   "metadata": {},
   "outputs": [
    {
     "name": "stdout",
     "output_type": "stream",
     "text": [
      "U+0031\t  1   \tre_dig\tisdig\tisnum\t 1.00\tDIGIT ONE\n",
      "U+00bc\t  ¼   \t-\t-\tisnum\t 0.25\tVULGAR FRACTION ONE QUARTER\n",
      "U+00b2\t  ²   \t-\tisdig\tisnum\t 2.00\tSUPERSCRIPT TWO\n",
      "U+0969\t  ३   \tre_dig\tisdig\tisnum\t 3.00\tDEVANAGARI DIGIT THREE\n",
      "U+136b\t  ፫   \t-\tisdig\tisnum\t 3.00\tETHIOPIC DIGIT THREE\n",
      "U+216b\t  Ⅻ   \t-\t-\tisnum\t12.00\tROMAN NUMERAL TWELVE\n",
      "U+2466\t  ⑦   \t-\tisdig\tisnum\t 7.00\tCIRCLED DIGIT SEVEN\n",
      "U+2480\t  ⒀   \t-\t-\tisnum\t13.00\tPARENTHESIZED NUMBER THIRTEEN\n",
      "U+3285\t  ㊅   \t-\t-\tisnum\t 6.00\tCIRCLED IDEOGRAPH SIX\n"
     ]
    }
   ],
   "source": [
    "import unicodedata\n",
    "import re\n",
    "\n",
    "re_digit = re.compile(r'\\d')\n",
    "sample = '1\\xbc\\xb2\\u0969\\u136b\\u216b\\u2466\\u2480\\u3285'\n",
    "for char in sample:\n",
    "    print('U+%04x' % ord(char),\n",
    "          char.center(6),\n",
    "          're_dig' if re_digit.match(char) else '-',\n",
    "          'isdig' if char.isdigit() else '-',\n",
    "          'isnum' if char.isnumeric() else '-',\n",
    "          format(unicodedata.numeric(char), '5.2f'),\n",
    "          unicodedata.name(char),\n",
    "          sep='\\t')"
   ]
  },
  {
   "cell_type": "markdown",
   "metadata": {},
   "source": [
    "# 4.10 支持str和bytes的双模式API\n",
    "## 4.10.1 正则表达式中的str和bytes\n",
    "如果使用bytes构建正则表达式，则\\d和\\w等模式只能匹配ASCII字符。如果使用str构建正则表达式，则这些模式可以匹配ASCII之外的Unicode字符。"
   ]
  },
  {
   "cell_type": "code",
   "execution_count": 19,
   "metadata": {},
   "outputs": [
    {
     "name": "stdout",
     "output_type": "stream",
     "text": [
      "Text\n",
      "  'Ramanujan saw ௧௭௨௯ as 1729 = 1³ + 12³ = 9³ + 10³.'\n",
      "Numbers\n",
      "  str  : ['௧௭௨௯', '1729', '1', '12', '9', '10']\n",
      "  bytes: [b'1729', b'1', b'12', b'9', b'10']\n",
      "Words\n",
      "  str  : ['Ramanujan', 'saw', '௧௭௨௯', 'as', '1729', '1³', '12³', '9³', '10³']\n",
      "  bytes: [b'Ramanujan', b'saw', b'as', b'1729', b'1', b'12', b'9', b'10']\n"
     ]
    }
   ],
   "source": [
    "import re\n",
    "re_numbers_str = re.compile(r'\\d+')\n",
    "re_words_str = re.compile(r'\\w+')\n",
    "re_numbers_bytes = re.compile(rb'\\d+')\n",
    "re_words_bytes = re.compile(rb'\\w+')\n",
    "\n",
    "text_str = (\"Ramanujan saw \\u0be7\\u0bed\\u0be8\\u0bef\"\n",
    "            \" as 1729 = 1³ + 12³ = 9³ + 10³.\")\n",
    "text_bytes = text_str.encode('utf_8')\n",
    "print('Text', repr(text_str), sep='\\n  ')\n",
    "print('Numbers')\n",
    "print('  str  :', re_numbers_str.findall(text_str))\n",
    "print('  bytes:', re_numbers_bytes.findall(text_bytes))\n",
    "print('Words')\n",
    "print('  str  :', re_words_str.findall(text_str))\n",
    "print('  bytes:', re_words_bytes.findall(text_bytes))"
   ]
  },
  {
   "cell_type": "markdown",
   "metadata": {},
   "source": [
    "## 4.10.2 os函数中的str和bytes\n",
    "为了规避文件名不能编码的问题，os模块中所有接受文件名或者路径的函数，都支持str和bytes两种类型的参数。如果参数是str，那么系统调用会使用sys.getfilesystemencoding()返回的编码解码器自动转换参数，操作系统回显时也使用该编码解码器解码。\n",
    "如果自动处理不了，那么可以传bytes参数。"
   ]
  },
  {
   "cell_type": "code",
   "execution_count": null,
   "metadata": {},
   "outputs": [],
   "source": [
    "import os\n",
    "os.listdir('.')\n",
    "os.listdir(b'.')"
   ]
  }
 ],
 "metadata": {
  "kernelspec": {
   "display_name": "Python 3",
   "language": "python",
   "name": "python3"
  },
  "language_info": {
   "codemirror_mode": {
    "name": "ipython",
    "version": 3
   },
   "file_extension": ".py",
   "mimetype": "text/x-python",
   "name": "python",
   "nbconvert_exporter": "python",
   "pygments_lexer": "ipython3",
   "version": "3.11.5"
  }
 },
 "nbformat": 4,
 "nbformat_minor": 2
}
