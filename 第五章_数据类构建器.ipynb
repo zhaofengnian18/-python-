{
 "cells": [
  {
   "cell_type": "markdown",
   "metadata": {},
   "source": [
    "# 5 数据类构建器\n",
    "\n",
    "Python提供了几种构建简单类的方式，这些类只是字段的容器，几乎没有额外功能。这种模式叫做数据类（data class）。\n",
    "\n",
    "例如\n",
    "collections.namedtuple\n",
    "typing.NamedTuple\n",
    "@dataclasses.dataclass\n",
    "\n",
    "## 5.2 数据类构建器概述"
   ]
  },
  {
   "cell_type": "code",
   "execution_count": 1,
   "metadata": {},
   "outputs": [
    {
     "name": "stdout",
     "output_type": "stream",
     "text": [
      "<__main__.Coordinate object at 0x10669db10>\n",
      "False\n",
      "True\n"
     ]
    }
   ],
   "source": [
    "# 例如构建一个只存放经纬度的类，一般写法为\n",
    "class Coordinate:\n",
    "    def __init__(self, lat, long):\n",
    "        self.lat = lat\n",
    "        self.long = long\n",
    "\n",
    "moscow = Coordinate(55.7558, 37.6176)\n",
    "location = Coordinate(55.7558, 37.6176)\n",
    "\n",
    "# 无意义的__repr__方法\n",
    "print(moscow)\n",
    "# 不能直接比较，因为实例的ID不同，只能逐一比较属性\n",
    "print(moscow == location)\n",
    "print((moscow.lat, moscow.long) == (location.lat, location.long))"
   ]
  },
  {
   "cell_type": "code",
   "execution_count": 7,
   "metadata": {},
   "outputs": [
    {
     "name": "stdout",
     "output_type": "stream",
     "text": [
      "True\n",
      "Coordinate(lat=55.7558, long=37.6176)\n",
      "True\n"
     ]
    }
   ],
   "source": [
    "# 使用collections.namedtuple构建\n",
    "from collections import namedtuple\n",
    "Coordinate = namedtuple('Coordinate', 'lat long')\n",
    "# 元类方法创建类\n",
    "print(issubclass(Coordinate, tuple))\n",
    "moscow = Coordinate(55.7558, 37.6176)\n",
    "location = Coordinate(55.7558, 37.6176)\n",
    "# 有意义的__repr__方法\n",
    "print(moscow)\n",
    "# 可以直接比较\n",
    "print(moscow == location)"
   ]
  },
  {
   "cell_type": "code",
   "execution_count": 6,
   "metadata": {},
   "outputs": [
    {
     "name": "stdout",
     "output_type": "stream",
     "text": [
      "True\n",
      "Coordinate(lat=55.7558, long=37.6176)\n",
      "True\n",
      "True\n",
      "55.8N, 37.6E\n",
      "True\n"
     ]
    }
   ],
   "source": [
    "# 使用typing.NamedTuple构建,还可以给属性加类型注解\n",
    "from typing import NamedTuple\n",
    "Coordinate = NamedTuple('Coordinate', [('lat', float), ('long', float)])\n",
    "\n",
    "# 元类方法创建类\n",
    "print(issubclass(Coordinate, tuple))\n",
    "moscow = Coordinate(55.7558, 37.6176)\n",
    "location = Coordinate(55.7558, 37.6176)\n",
    "# 有意义的__repr__方法\n",
    "print(moscow)\n",
    "# 可以直接比较\n",
    "print(moscow == location)\n",
    "\n",
    "# 也可以使用继承的写法\n",
    "class Coordinate(NamedTuple):\n",
    "    lat: float\n",
    "    long: float\n",
    "\n",
    "    def __str__(self) -> str:\n",
    "        ns = 'N' if self.lat >= 0 else 'S'\n",
    "        we = 'E' if self.long >= 0 else 'W'\n",
    "        return f'{abs(self.lat):.1f}{ns}, {abs(self.long):.1f}{we}'\n",
    "\n",
    "# 元类方法创建类\n",
    "print(issubclass(Coordinate, tuple))\n",
    "moscow = Coordinate(55.7558, 37.6176)\n",
    "location = Coordinate(55.7558, 37.6176)\n",
    "# 有意义的__repr__方法\n",
    "print(moscow)\n",
    "# 可以直接比较\n",
    "print(moscow == location)"
   ]
  },
  {
   "cell_type": "code",
   "execution_count": 10,
   "metadata": {},
   "outputs": [
    {
     "name": "stdout",
     "output_type": "stream",
     "text": [
      "True\n",
      "55.8N, 37.6E\n",
      "True\n"
     ]
    }
   ],
   "source": [
    "# 使用dataclasses.dataclass构建\n",
    "from dataclasses import dataclass\n",
    "\n",
    "# @dataclass装饰器不依赖继承和元类\n",
    "@dataclass\n",
    "class Coordinate:\n",
    "    lat: float\n",
    "    long: float\n",
    "\n",
    "    def __str__(self) -> str:\n",
    "        ns = 'N' if self.lat >= 0 else 'S'\n",
    "        we = 'E' if self.long >= 0 else 'W'\n",
    "        return f'{abs(self.lat):.1f}{ns}, {abs(self.long):.1f}{we}'\n",
    "\n",
    "print(issubclass(Coordinate, object))\n",
    "moscow = Coordinate(55.7558, 37.6176)\n",
    "location = Coordinate(55.7558, 37.6176)\n",
    "# 有意义的__repr__方法\n",
    "print(moscow)\n",
    "# 可以直接比较\n",
    "print(moscow == location)"
   ]
  },
  {
   "cell_type": "markdown",
   "metadata": {},
   "source": [
    "### 三种方式的主要功能区别\n",
    "1. 可变实例\n",
    "    collections.namedtuple和typing.NamedTuple构建的类是tuple的子类，因此实例不可变。\n",
    "    @dataclasses.dataclass默认构建可变的类。不过如果指定参数frozen=True，也可以构建不可变的类。\n",
    "    @dataclasses.dataclass(frozen=True)\n",
    "\n",
    "2. class语句句法\n",
    "    只有typing.NamedTuple和@dataclasses.dataclass使用class语句句法。\n",
    "\n",
    "3. 构造字典\n",
    "    两种具名元组都可以通过._asdict()方法构造字典。\n",
    "    dataclass实例可以通过dataclasses.asdict()函数构造字典。\n",
    "\n",
    "4. 获取字段名称和默认值\n",
    "    3种方式都支持获取字段名称和可能配置的默认值。\n",
    "    具名元组类中，这些数据在._fields和._field_defaults属性中。\n",
    "    dataclass类中，可以用过fields()函数获取。\n",
    "\n",
    "5. 获取字段类型\n",
    "    typing.NamedTuple和@dataclasses.dataclass定义的类都有一个__annotations__属性，其中包含字段名和类型的映射。\n",
    "    不要直接访问__annotations__属性，而是使用typing.get_type_hints()函数。\n",
    "\n",
    "6. 更改之后创建新实例\n",
    "    对于具名元组实例x，x._replace(**kwargs)根据指定的关键字参数替换某些属性的值，然后返回新的实例。\n",
    "    dataclasses.replace(x, **kwargs)与dataclass装饰的类具有相同的作用。\n",
    "\n",
    "7. 运行时定义新类\n",
    "    运行时动态构建数据类，可以使用默认的函数调用句法，collections.namedtuple和typing.NamedTuple都支持这种方式。\n",
    "    dataclasses.make_dataclass()函数也支持这种方式。\n",
    "\n",
    "## 5.3 典型的具名元组（collections.namedtuple）\n"
   ]
  },
  {
   "cell_type": "code",
   "execution_count": 19,
   "metadata": {},
   "outputs": [
    {
     "name": "stdout",
     "output_type": "stream",
     "text": [
      "City(name='Tokyo', country='JP', population=36.933, coordinates=(35.689722, 139.691667))\n",
      "(35.689722, 139.691667)\n",
      "JP\n",
      "('name', 'country', 'population', 'coordinates')\n",
      "{'name': 'Delhi NCR', 'country': 'IN', 'population': 21.935, 'coordinates': LatLong(lat=28.613889, long=77.208889)}\n",
      "{\"name\": \"Delhi NCR\", \"country\": \"IN\", \"population\": 21.935, \"coordinates\": [28.613889, 77.208889]}\n",
      "Coordinate(lat=1, long=2)\n",
      "Coordinate(lat=2, long=1)\n"
     ]
    }
   ],
   "source": [
    "from collections import namedtuple\n",
    "City = namedtuple('City', 'name country population coordinates')\n",
    "tokyo = City('Tokyo', 'JP', 36.933, (35.689722, 139.691667))\n",
    "print(tokyo)\n",
    "print(tokyo.coordinates)\n",
    "print(tokyo[1])\n",
    "#查询所有的属性名\n",
    "print(City._fields)\n",
    "#使用_make()通过接受一个可迭代对象来生成一个新的实例\n",
    "LatLong = namedtuple('LatLong', 'lat long')\n",
    "delhi_data = ('Delhi NCR', 'IN', 21.935, LatLong(28.613889, 77.208889))\n",
    "# 等同于delhi = City('Delhi NCR', 'IN', 21.935, (28.613889, 77.208889))\n",
    "delhi = City._make(delhi_data)\n",
    "# 使用_asdict()返回dict\n",
    "print(delhi._asdict())\n",
    "\n",
    "import json\n",
    "# 转json\n",
    "print(json.dumps(delhi._asdict()))\n",
    "\n",
    "# 为字段指定默认值 3.7开始可以用defaults参数，值为一个产生N项的可迭代对象，为从右数第N个字段指定默认值\n",
    "Coordinate = namedtuple('Coordinate', 'lat long', defaults=[1,2])\n",
    "print(Coordinate())\n",
    "Coordinate = namedtuple('Coordinate', 'lat long', defaults=[1])\n",
    "print(Coordinate(2))"
   ]
  },
  {
   "cell_type": "markdown",
   "metadata": {},
   "source": [
    "## 5.4 带类型的具名元组（typing.NamedTuple）"
   ]
  },
  {
   "cell_type": "code",
   "execution_count": null,
   "metadata": {},
   "outputs": [],
   "source": [
    "from typing import NamedTuple\n",
    "\n",
    "# 每个字段都有类型注解\n",
    "class Coordinate(NamedTuple):\n",
    "    lat: float\n",
    "    long: float \n",
    "    # 为字段指定默认值\n",
    "    reference: str = 'WGS84'"
   ]
  },
  {
   "cell_type": "markdown",
   "metadata": {},
   "source": [
    "使用typing.NamedTuple构建的类与collections.namedtuple生成的类的方法基本相同，区别就是多了类属性__annotations__。"
   ]
  },
  {
   "cell_type": "markdown",
   "metadata": {},
   "source": [
    "## 5.5 类型提示入门\n",
    "\n",
    "Python编译器和解释器并不强制要求提供类型信息。\n",
    "\n",
    "### 5.5.1 运行时没有作用\n",
    "\n",
    "Python类型提示可以看作“供IDE和类型检查工具验证类型的文档”，对运行时没有任何作用。"
   ]
  },
  {
   "cell_type": "code",
   "execution_count": 20,
   "metadata": {},
   "outputs": [
    {
     "name": "stdout",
     "output_type": "stream",
     "text": [
      "Coordinate(lat='lal', long='la', reference='WGS84')\n"
     ]
    }
   ],
   "source": [
    "import typing\n",
    "class Coordinate(typing.NamedTuple):\n",
    "    lat: float\n",
    "    long: float \n",
    "    # 为字段指定默认值\n",
    "    reference: str = 'WGS84'\n",
    "\n",
    "# 运行时并不检查类型\n",
    "trash = Coordinate(\"lal\", \"la\")\n",
    "print(trash)"
   ]
  },
  {
   "cell_type": "markdown",
   "metadata": {},
   "source": [
    "### 5.5.2 变量注解句法\n",
    "\n",
    "基本句法 \n",
    "var_name: var_type\n",
    "\n",
    "定义数据类时常用三种类型\n",
    "- 一个具体类，str FrenchDeck\n",
    "- 一个参数化的容器类型，list\\[str\\] tuple\\[int, int\\]\n",
    "- typing.Optional 用于可选参数 Optional\\[int\\] 可以是int或None\n",
    "\n",
    "### 5.5.3 变量注解的意义\n"
   ]
  },
  {
   "cell_type": "code",
   "execution_count": 27,
   "metadata": {},
   "outputs": [
    {
     "name": "stdout",
     "output_type": "stream",
     "text": [
      "{'a': <class 'int'>, 'b': <class 'float'>}\n",
      "type object 'DemoPlainClass' has no attribute 'a'\n",
      "1.1\n",
      "spam\n",
      "{'a': <class 'int'>, 'b': <class 'float'>}\n",
      "_tuplegetter(0, 'Alias for field number 0')\n",
      "_tuplegetter(1, 'Alias for field number 1')\n",
      "spam\n",
      "DemoNTClass(a, b)\n",
      "{'a': <class 'int'>, 'b': <class 'float'>}\n",
      "DemoDCClass(a: int, b: float = 1.1)\n",
      "type object 'DemoDCClass' has no attribute 'a'\n",
      "1.1\n",
      "spam\n",
      "1\n",
      "2\n",
      "3\n"
     ]
    }
   ],
   "source": [
    "# 普通类\n",
    "class DemoPlainClass:\n",
    "    a: int\n",
    "    b: float = 1.1\n",
    "    c = 'spam'\n",
    "\n",
    "# a只作为注解存在，不是类属性，b和c是类属性\n",
    "print(DemoPlainClass.__annotations__)\n",
    "try:\n",
    "# 作者还嘲讽了JS的undefined,是最大的败笔之一\n",
    "    print(DemoPlainClass.a)\n",
    "except AttributeError as e:\n",
    "    print(e)\n",
    "print(DemoPlainClass.b)\n",
    "print(DemoPlainClass.c)\n",
    "\n",
    "# typing.NamedTuple类\n",
    "import typing\n",
    "class DemoNTClass(typing.NamedTuple):\n",
    "    # a是注解也是类属性\n",
    "    a: int\n",
    "    b: float = 1.1\n",
    "    c = 'spam'\n",
    "\n",
    "print(DemoNTClass.__annotations__)\n",
    "# a和b为描述符，描述符可以理解为特性（property）的读值（getter）方法\n",
    "print(DemoNTClass.a)\n",
    "print(DemoNTClass.b)\n",
    "print(DemoNTClass.c)\n",
    "\n",
    "print(DemoNTClass.__doc__)\n",
    "\n",
    "\n",
    "# dataclass类\n",
    "from dataclasses import dataclass\n",
    "@dataclass\n",
    "class DemoDCClass:\n",
    "    # a是注解也是受描述符控制的实例属性\n",
    "    a: int\n",
    "    b: float = 1.1\n",
    "    c = 'spam'\n",
    "\n",
    "print(DemoDCClass.__annotations__)\n",
    "print(DemoDCClass.__doc__)\n",
    "try:\n",
    "    # 只是实例属性，不是类属性\n",
    "    print(DemoDCClass.a)\n",
    "except AttributeError as e:\n",
    "    print(e)\n",
    "print(DemoDCClass.b)\n",
    "print(DemoDCClass.c)\n",
    "\n",
    "dc=DemoDCClass(1)\n",
    "print(dc.a)\n",
    "# 可变的\n",
    "dc.a = 2\n",
    "print(dc.a)\n",
    "# 还能新增属性\n",
    "dc.x = 3\n",
    "print(dc.x)"
   ]
  },
  {
   "cell_type": "markdown",
   "metadata": {},
   "source": [
    "## 5.6 @dataclass详解\n",
    "\n",
    "@dataclass装饰器接受多个参数\n",
    "@dataclass(*, init=True, repr=True, eq=True, order=False, unsafe_hash=False, frozen=False)\n",
    "- init：是否生成__init__方法，默认为True\n",
    "- repr：是否生成__repr__方法，默认为True\n",
    "- eq：是否生成__eq__方法，默认为True\n",
    "- order：是否生成__lt__、__le__、__gt__、__ge__方法，默认为False\n",
    "- unsafe_hash：是否强制生成__hash__方法，默认为False，有很多问题需要注意\n",
    "- frozen：是否生成不可变类，默认为False\n",
    "\n",
    "如果eq=True，frozen=True，那么@dataclass将生成一个__hash__方法，确保实例可哈希。\n",
    "对于frozen=False，@dataclass会将__hash__方法设置为None。\n",
    "\n",
    "### 5.6.1 字段选项\n",
    "\n",
    "@dataclass装饰器拒绝以下形式定义类\n"
   ]
  },
  {
   "cell_type": "code",
   "execution_count": 29,
   "metadata": {},
   "outputs": [],
   "source": [
    "from dataclasses import dataclass, field\n",
    "\n",
    "@dataclass\n",
    "class ClubMember:\n",
    "    name: str\n",
    "    #错误的默认值写法\n",
    "    # guests: list = []\n",
    "    # 正确的默认值写法\n",
    "    guests: list = field(default_factory=list)\n",
    "\n"
   ]
  },
  {
   "cell_type": "markdown",
   "metadata": {},
   "source": [
    "default_factory参数可以是一个函数、一个类，或者其他可调用对象，在每次创建数据类的实例时调用（不带参数），构建默认值。\n",
    "default_factory是field函数最常使用的参数，但是field函数还有其他参数。\n",
    "- default：字段的默认值 \n",
    "- default_factory：不接受参数的函数\n",
    "- init：把字段作为参数传给__init__，默认为True\n",
    "- repr：是否在repr中显示字段，默认为True\n",
    "- compare：是否在比较中使用字段，默认为True\n",
    "- hash：是否在哈希中使用字段，默认为None\n",
    "- metadata：用户定义的数据映射，@dataclass忽略该参数\n",
    "\n",
    "### 5.6.2 初始化后处理\n",
    "如果初始化@dataclass类的实例时，需要进行一些额外的处理，可以定义__post_init__方法, @dataclass会在__init__方法最后调用__post_init__方法。常用于执行验证或者根据其他字段计算一个字段的值。"
   ]
  },
  {
   "cell_type": "code",
   "execution_count": null,
   "metadata": {},
   "outputs": [],
   "source": [
    "from dataclasses import dataclass, field\n",
    "\n",
    "@dataclass\n",
    "class ClubMember:\n",
    "    name: str\n",
    "    #错误的默认值写法\n",
    "    # guests: list = []\n",
    "    # 正确的默认值写法\n",
    "    guests: list = field(default_factory=list)\n",
    "\n",
    "@dataclass\n",
    "class HackerClubMember(ClubMember):\n",
    "    all_handles = set()\n",
    "    handle: str = ''\n",
    "\n",
    "    def __post_init__(self):\n",
    "        cls = self.__class__\n",
    "        if self.handle == '':\n",
    "            self.handle = self.name.split()[0]\n",
    "        if self.handle in cls.all_handles:\n",
    "            msg = f'handle {self.handle!r} already in use'\n",
    "            raise ValueError(msg)\n",
    "        cls.all_handles.add(self.handle)"
   ]
  },
  {
   "cell_type": "markdown",
   "metadata": {},
   "source": [
    "### 5.6.3 带类型的类属性\n",
    "\n",
    "    类型检查工具可能对上面例子的类属性定义报错。\n",
    "    可以使用 all_handles: ClassVar[Set[str]] = set() 定义类属性。\n",
    "    类型为ClassVar时，@dataclass不会生成实例属性。\n",
    "\n",
    "### 5.6.4 初始化不作为字段的变量\n",
    "\n",
    "    仅做初始化的变量（init-only variable）意思为不作为实例字段的参数。可以使用伪类型InitVar定义。"
   ]
  },
  {
   "cell_type": "code",
   "execution_count": 32,
   "metadata": {},
   "outputs": [
    {
     "name": "stdout",
     "output_type": "stream",
     "text": [
      "C(i=10, j='db')\n"
     ]
    }
   ],
   "source": [
    "from dataclasses import InitVar, dataclass\n",
    "\n",
    "\n",
    "@dataclass\n",
    "class C:\n",
    "    i: int\n",
    "    j: int = None\n",
    "    database: InitVar[str] = None\n",
    "\n",
    "    def __post_init__(self, database):\n",
    "        if self.j is None and database is not None:\n",
    "            self.j = database\n",
    "\n",
    "c = C(10, database='db')\n",
    "print(c)"
   ]
  },
  {
   "cell_type": "markdown",
   "metadata": {},
   "source": [
    "### 5.6.5 @dataclass示例：都柏林核心模式\n",
    "\n",
    "都柏林核心模式是小组术语，可用于描述数字资源（视频、图像、网页等），也可用于描述物理资源，例如图书、CD和艺术品等对象。"
   ]
  },
  {
   "cell_type": "code",
   "execution_count": 35,
   "metadata": {},
   "outputs": [
    {
     "name": "stdout",
     "output_type": "stream",
     "text": [
      "Resource(\n",
      "    identifier = '978-0-13-213080-6',\n",
      "    title = 'The Zen of Python',\n",
      "    creators = ['Tim Peters'],\n",
      "    date = datetime.date(2004, 3, 25),\n",
      "    type = <ResourceType.BOOK: 1>,\n",
      "    description = 'The Zen of Python, by Tim Peters',\n",
      "    language = 'English',\n",
      "    subjects = ['Python (Computer program language)'],\n",
      ")\n",
      "Resource(\n",
      "    identifier = '978-0-13-213080-6',\n",
      "    title = 'The Zen of Python',\n",
      "    creators = ['Tim Peters'],\n",
      "    date = datetime.date(2004, 3, 25),\n",
      "    type = <ResourceType.BOOK: 1>,\n",
      "    description = 'The Zen of Python, by Tim Peters',\n",
      "    language = 'English',\n",
      "    subjects = ['Python (Computer program language)'],\n",
      ")\n"
     ]
    }
   ],
   "source": [
    "from dataclasses import dataclass, field, fields\n",
    "from typing import Optional\n",
    "from enum import Enum, auto\n",
    "from datetime import date\n",
    "\n",
    "\n",
    "class ResourceType(Enum):\n",
    "    BOOK = auto()\n",
    "    EBOOK = auto()\n",
    "    VIDEO = auto()\n",
    "\n",
    "@dataclass\n",
    "class Resource:\n",
    "    identifier: str\n",
    "    title: str = '<untitled>'\n",
    "    creators: list[str] = field(default_factory=list)\n",
    "    date: Optional[date] = None\n",
    "    type: ResourceType = ResourceType.BOOK\n",
    "    description: str = ''\n",
    "    language: str = ''\n",
    "    subjects: list[str] = field(default_factory=list)\n",
    "\n",
    "    def __repr__(self) -> str:\n",
    "        cls = self.__class__\n",
    "        cls_name = cls.__name__\n",
    "        indent = ' ' * 4\n",
    "        res = [f'{cls_name}(']\n",
    "        for f in fields(cls):\n",
    "            value = getattr(self, f.name)\n",
    "            res.append(f'{indent}{f.name} = {value!r},')\n",
    "\n",
    "        res.append(')')\n",
    "        return '\\n'.join(res)\n",
    "\n",
    "description = 'The Zen of Python, by Tim Peters'\n",
    "book = Resource('978-0-13-213080-6', 'The Zen of Python', ['Tim Peters'], date(2004, 3, 25), ResourceType.BOOK, description, 'English', ['Python (Computer program language)'])\n",
    "\n",
    "print(book)"
   ]
  },
  {
   "cell_type": "markdown",
   "metadata": {},
   "source": [
    "## 5.7 数据类导致代码异味\n",
    "\n",
    "当使用了数据类时可能代表设计存在问题。\n",
    "\n",
    "所谓数据类是指，他们拥有一些字段，以及用于访问这些字段的函数，除此之外一无长物。这样的类只是一种不会说话的数据容器，他们几乎一定被其他类过分繁琐的操控着。\n",
    "\n",
    "遇到数据类，请问自己一个问题：这个类需要什么行为？然后开始重构，加入需要的行为，将一个空洞的对象抽象为真正的类。\n",
    "\n",
    "面向对象编程的主要思想就是把行为和数据放在同一个代码单元中。如果一个类使用广泛，但是没有任何行为，那么整个系统中可能遍布处理实例的代码，并且出现在很多方法和函数中。这样的系统很难维护。\n",
    "\n",
    "### 5.7.1 把数据类用作脚手架\n",
    "\n",
    "刚开始创建一个项目时，先用数据类创建简单的类，随着时间的推移，再逐渐添加行为。\n",
    "\n",
    "### 5.7.2 把数据类用作中间表述\n",
    "数据类可用于构建将要导出为JSON或其他交换格式的记录，也可用于存储刚刚从其他系统导入的数据。\n",
    "在这种情况下，一般将数据类实例当作不可变对象处理。\n",
    "\n",
    "## 5.8 模式匹配类实例\n",
    "\n",
    "类模式通过类型和属性匹配类实例。类模式匹配的对象可以是任何类的实例。\n",
    "\n",
    "### 5.8.1 简单类模式\n",
    "\n",
    "match x:\n",
    "    case float():\n",
    "        print('x is a float')\n",
    "\n",
    "### 5.8.2 关键字类模式\n"
   ]
  },
  {
   "cell_type": "code",
   "execution_count": 36,
   "metadata": {},
   "outputs": [
    {
     "name": "stdout",
     "output_type": "stream",
     "text": [
      "[City(continent='Asia', name='Tokyo', country='JP'), City(continent='Asia', name='Delhi', country='IN'), City(continent='Asia', name='Shanghai', country='CN')]\n"
     ]
    }
   ],
   "source": [
    "import typing\n",
    "\n",
    "class City(typing.NamedTuple):\n",
    "    continent: str\n",
    "    name: str\n",
    "    country: str\n",
    "\n",
    "cities = [\n",
    "    City('Asia', 'Tokyo', 'JP'),\n",
    "    City('Europe', 'Moscow', 'RU'),\n",
    "    City('Asia', 'Delhi', 'IN'),\n",
    "    City('North America', 'Mexico City', 'MX'),\n",
    "    City('North America', 'New York', 'US'),\n",
    "    City('North America', 'San Francisco', 'US'),\n",
    "    City('Europe', 'London', 'UK'),\n",
    "    City('Asia', 'Shanghai', 'CN'),\n",
    "    City('Europe', 'Paris', 'FR'),\n",
    "]\n",
    "\n",
    "def match_asian_cities(cities: list[City]) -> list[City]:\n",
    "    result = []\n",
    "    for city in cities:\n",
    "        match city:\n",
    "            case City(continent='Asia'):\n",
    "                result.append(city)\n",
    "\n",
    "    return result\n",
    "\n",
    "print(match_asian_cities(cities))\n",
    "\n",
    "### 5.8.3 位置类模式\n",
    "def match_asian_cities(cities: list[City]) -> list[City]:\n",
    "    result = []\n",
    "    for city in cities:\n",
    "        match city:\n",
    "            case City('Asia'):\n",
    "                result.append(city)\n",
    "\n",
    "    return result"
   ]
  }
 ],
 "metadata": {
  "kernelspec": {
   "display_name": "Python 3",
   "language": "python",
   "name": "python3"
  },
  "language_info": {
   "codemirror_mode": {
    "name": "ipython",
    "version": 3
   },
   "file_extension": ".py",
   "mimetype": "text/x-python",
   "name": "python",
   "nbconvert_exporter": "python",
   "pygments_lexer": "ipython3",
   "version": "3.11.5"
  }
 },
 "nbformat": 4,
 "nbformat_minor": 2
}
