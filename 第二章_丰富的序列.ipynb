{
 "cells": [
  {
   "cell_type": "markdown",
   "metadata": {},
   "source": [
    "# 2.2 内置序列类型概览\n",
    "容器序列\n",
    "    list、tuple、collections.deque 这些序列能存放不同类型的数据\n",
    "扁平序列\n",
    "    str、bytes、bytearray、memoryview 和 array.array，这类序列只能容纳一种类型\n",
    "\n",
    "按照可变性分类\n",
    "    可变序列\n",
    "        list、bytearray、array.array、collections.deque 和 memoryview\n",
    "    不可变序列\n",
    "        tuple、str 和 bytes\n",
    "\n",
    "# 2.3 列表推导和生成器表达式\n",
    "  ## 2.3.1 列表推导式对可读性的影响"
   ]
  },
  {
   "cell_type": "code",
   "execution_count": null,
   "metadata": {},
   "outputs": [],
   "source": [
    "symbols = '$¢£¥€¤'\n",
    "codes = []\n",
    "for symbol in symbols:\n",
    "    codes.append(ord(symbol))\n",
    "print(codes)\n",
    "\n",
    "codes = [ord(symbol) for symbol in symbols]\n",
    "print(codes)"
   ]
  },
  {
   "cell_type": "markdown",
   "metadata": {},
   "source": [
    "如果你不打算使用生成的列表，那就不要使用列表推导式语法。\n",
    "  ## 2.3.2 列表推导式与 filter 和 map 的比较"
   ]
  },
  {
   "cell_type": "code",
   "execution_count": null,
   "metadata": {},
   "outputs": [],
   "source": [
    "symbols = '$¢£¥€¤'\n",
    "beyond_ascii = [ord(s) for s in symbols if ord(s) > 127]\n",
    "print(beyond_ascii)\n",
    "\n",
    "beyond_ascii = list(filter(lambda c: c > 127, map(ord, symbols)))\n",
    "print(beyond_ascii)"
   ]
  },
  {
   "cell_type": "markdown",
   "metadata": {},
   "source": [
    "## 2.3.3 笛卡尔积"
   ]
  },
  {
   "cell_type": "code",
   "execution_count": null,
   "metadata": {},
   "outputs": [],
   "source": [
    "colors = ['black', 'white']\n",
    "sizes = ['S', 'M', 'L']\n",
    "tshirts = [(color, size) for color in colors\n",
    "                        for size in sizes]\n",
    "print(tshirts)\n",
    "\n",
    "for color in colors:\n",
    "    for size in sizes:\n",
    "        print((color, size))"
   ]
  },
  {
   "cell_type": "markdown",
   "metadata": {},
   "source": [
    "## 2.3.4 生成器表达式\n",
    "    虽然列表推导式也可以生成元组、数组或其他序列类型，但是生成器表达式占用的内存更少。"
   ]
  },
  {
   "cell_type": "code",
   "execution_count": null,
   "metadata": {},
   "outputs": [],
   "source": [
    "symbols = '$¢£¥€¤'\n",
    "print(tuple(ord(symbol) for symbol in symbols))\n",
    "\n",
    "import array\n",
    "print(array.array('I', (ord(symbol) for symbol in symbols)))"
   ]
  },
  {
   "cell_type": "markdown",
   "metadata": {},
   "source": [
    "生成器表达式一次产出一项。"
   ]
  },
  {
   "cell_type": "code",
   "execution_count": null,
   "metadata": {},
   "outputs": [],
   "source": [
    "colors = ['black', 'white']\n",
    "sizes = ['S', 'M', 'L']\n",
    "for tshirt in (f'{c} {s}' for c in colors for s in sizes):\n",
    "    print(tshirt)"
   ]
  },
  {
   "cell_type": "markdown",
   "metadata": {},
   "source": [
    "# 2.4 元组不仅仅是不可变列表\n",
    "    元组有两个作用，除了可以作为不可变列表使用之外，还可用作没有字段名称的记录。\n",
    "## 2.4.1 用作记录\n",
    "    如果只把元组当作不可变列表，那么项数和项的顺序就不重要了。\n",
    "    如果把元组当作字段的容器使用，那么项数通常是固定的，顺序也变得十分重要。"
   ]
  },
  {
   "cell_type": "code",
   "execution_count": null,
   "metadata": {},
   "outputs": [],
   "source": [
    "lax_coordinates = (33.9425, -118.408056)\n",
    "# 元组拆包\n",
    "city, year, pop, chg, area = ('Tokyo', 2003, 32450, 0.66, 8014)\n",
    "traveler_ids = [('USA', '31195855'), ('BRA', 'CE342567'),\n",
    "                ('ESP', 'XDA205856')]\n",
    "for passport in sorted(traveler_ids):\n",
    "    # 元组拆包\n",
    "    print('%s/%s' % passport)\n",
    "\n",
    "for country, _ in traveler_ids:\n",
    "    print(country)"
   ]
  },
  {
   "cell_type": "markdown",
   "metadata": {},
   "source": [
    "## 2.4.2 用作不可变列表\n",
    "    Python解释器和标准库经常把元组当作不可变列表来使用。\n",
    "    意图清晰\n",
    "        只要在源码中见到元组，你就知道它的长度不可变。\n",
    "    性能优越\n",
    "        长度相同的元组和列表，元组占用的内存更少，而且Python可对元组做些优化。\n",
    "\n",
    "    元组的不可变性仅针对元组中的引用，如果引用的是可变对象且引用对象发生了变化，元组中的值也会变化。"
   ]
  },
  {
   "cell_type": "code",
   "execution_count": 9,
   "metadata": {},
   "outputs": [
    {
     "name": "stdout",
     "output_type": "stream",
     "text": [
      "True\n",
      "False\n"
     ]
    }
   ],
   "source": [
    "a = (10, 'alpha', [1,2])\n",
    "b = (10, 'alpha', [1,2])\n",
    "print(a == b)\n",
    "b[-1].append(3)\n",
    "print(a == b)"
   ]
  },
  {
   "cell_type": "markdown",
   "metadata": {},
   "source": [
    "只有值永不可变的对象才是可哈希的。不可哈希的元组不能作用字典的键，也不能作为集合的元素。"
   ]
  },
  {
   "cell_type": "code",
   "execution_count": null,
   "metadata": {},
   "outputs": [],
   "source": [
    "# 显式判断一个元组（或其他对象）的值是否固定\n",
    "def fixed(o):\n",
    "    try:\n",
    "        hash(o)\n",
    "    except TypeError:\n",
    "        return False\n",
    "    return True\n",
    "\n",
    "tf = (10, 'alpha', (1,2))\n",
    "print(fixed(tf))\n",
    "tm = (10, 'alpha', [1,2])\n",
    "print(fixed(tm))"
   ]
  },
  {
   "cell_type": "markdown",
   "metadata": {},
   "source": [
    "元组性能上的优势\n",
    "    · Python编译器求解元组字面量时，一次操作即可生成元组常量的字节码。求解列表字面量时，生成的字节码将是每个元素当作独立的常量推入数据栈，然后构建列表。\n",
    "    · 给定一个元组t, tuple(t)直接返回t的引用。给定一个列表l,list(l)创建l的副本。\n",
    "    · tuple实例长度固定，分配的内存空间正好够用。而list实例的内存空间要富余一些，时刻准备追加元素。\n",
    "    · 对元组中项的引用存储在元组结构体内的一个数组中，而列表把引用数组的指针存储在别处。原因是列表可以变长，这会导致CPU缓存效率较低。\n",
    "\n",
    "## 2.4.3 列表和元组方法的比较\n",
    "    元组支持所有不涉及增删改的列表方法，元组没有__reversed__方法，但是可以使用内置函数reversed， reversed(my_tuple)。\n",
    "\n",
    "# 2.5 序列和可迭代对象拆包\n",
    "    拆包的目标可以是任何可迭代对象，包括不支持索引表示法（[]）的迭代器。\n",
    "    最明显的拆包是并行赋值（parallel assigment）"
   ]
  },
  {
   "cell_type": "code",
   "execution_count": null,
   "metadata": {},
   "outputs": [],
   "source": [
    "lax_coordinates = (33.9425, -118.408056)\n",
    "latitude, longitude = lax_coordinates\n",
    "print(latitude)\n",
    "print(longitude)\n",
    "\n",
    "print(divmod(20, 8))\n",
    "t = (20, 8)\n",
    "print(*t)\n",
    "print(divmod(*t))\n",
    "quotient, remainder = divmod(*t)\n",
    "print(quotient)\n",
    "print(remainder)"
   ]
  },
  {
   "cell_type": "markdown",
   "metadata": {},
   "source": [
    "## 2.5.1 使用*获取余下的项\n",
    "    定义函数时可以使用*args捕获余下的任意数量的参数。"
   ]
  },
  {
   "cell_type": "code",
   "execution_count": null,
   "metadata": {},
   "outputs": [],
   "source": [
    "a, b, *rest = range(5)\n",
    "print(a, b, rest)\n",
    "a, b, *rest = range(3)\n",
    "print(a, b, rest)\n",
    "a, b, *rest = range(2)\n",
    "print(a, b, rest)\n",
    "\n",
    "# 并行赋值时，*前缀只能用在一个变量名前面，但这个变量可以出现在赋值表达式的任意位置\n",
    "\n",
    "a, *body, c, d = range(5)\n",
    "print(a, body, c, d)\n",
    "*head, b, c, d = range(5)\n",
    "print(head, b, c, d)"
   ]
  },
  {
   "cell_type": "markdown",
   "metadata": {},
   "source": [
    "## 2.5.2 在函数调用和序列字面量中使用*拆包\n",
    "    在函数调用中可以多次使用*。"
   ]
  },
  {
   "cell_type": "code",
   "execution_count": null,
   "metadata": {},
   "outputs": [],
   "source": [
    "def fun(a, b, c, d, *rest):\n",
    "    return a, b, c, d, rest\n",
    "\n",
    "print(fun(*[1, 2], 3, *range(4,7)))\n",
    "\n",
    "# 定义列表、元组或集合字面量时，也可以使用*。\n",
    "print(*range(4), 4)\n",
    "\n",
    "print([*range(4), 4])\n",
    "\n",
    "print({*range(4), 4, *(5, 6, 7)})\n"
   ]
  },
  {
   "cell_type": "markdown",
   "metadata": {},
   "source": [
    "## 2.5.3 嵌套拆包\n",
    "    拆包的对象可以嵌套，要保证值的嵌套结构相同。"
   ]
  },
  {
   "cell_type": "code",
   "execution_count": null,
   "metadata": {},
   "outputs": [],
   "source": [
    "metro_areas = [\n",
    "    ('Tokyo', 'JP', 36.933, (35.689722, 139.691667)),\n",
    "    ('Delhi NCR', 'IN', 21.935, (28.613889, 77.208889)),\n",
    "    ('Mexico City', 'MX', 20.142, (19.433333, -99.133333)),\n",
    "    ('New York-Newark', 'US', 20.104, (40.808611, -74.020386)),\n",
    "    ('Sao Paulo', 'BR', 19.649, (-23.547778, -46.635833))\n",
    "]\n",
    "\n",
    "def main():\n",
    "    # ：15 表示宽度为15个字符，\n",
    "    # >9 表示数值右对齐且总宽度为9，\n",
    "    # 9.4f 表示将浮点数格式化为宽度为 9 个字符，其中包括小数点和小数部分的 4 位。左侧的空白会用空格填充。\n",
    "    print(f'{\"\":15} | {\"latitude\":>9} | {\"longitude\":>9}')\n",
    "    for name, _, _, (latitude, longitude) in metro_areas:\n",
    "        if longitude <= 0:\n",
    "            print(f'{name:15} | {latitude:9.4f} | {longitude:9.4f}')\n",
    "\n",
    "if __name__ == '__main__':\n",
    "    main()"
   ]
  },
  {
   "cell_type": "markdown",
   "metadata": {},
   "source": [
    "拆包赋值的对象也可以是一个列表，不过用途不大。例如一个数据库查询只返回一个记录，利用拆包确保只返回一个结果。\n",
    "\\[record\\] = query_returning_one_record()\n",
    "\n",
    "## 2.6 序列模式匹配\n",
    "    Python3.10中引入了match/case语句实现的模式匹配。\n",
    "    https://peps.python.org/pep-0634/"
   ]
  },
  {
   "cell_type": "code",
   "execution_count": null,
   "metadata": {},
   "outputs": [],
   "source": [
    "def handle_command(self, message):\n",
    "    match message:\n",
    "        case ['BEEPER', frequency, times]:\n",
    "            self.beep(times, frequency)\n",
    "        case ['NECK', angle]:\n",
    "            self.rotate_neck(angle)\n",
    "        case ['LED', ident, intensity]:\n",
    "            self.leds[ident].set_brightness(ident, intensity)\n",
    "        case ['LED', ident, red, green, blue]:\n",
    "            self.leds[ident].set_color(ident, red, green, blue)\n",
    "        case _:\n",
    "            raise InvalidCommand(message)"
   ]
  },
  {
   "cell_type": "markdown",
   "metadata": {},
   "source": [
    "match/case看上去很像C的switch/case，但不同点在于match支持析构。"
   ]
  },
  {
   "cell_type": "code",
   "execution_count": null,
   "metadata": {},
   "outputs": [],
   "source": [
    "metro_areas = [\n",
    "    ('Tokyo', 'JP', 36.933, (35.689722, 139.691667)),\n",
    "    ('Delhi NCR', 'IN', 21.935, (28.613889, 77.208889)),\n",
    "    ('Mexico City', 'MX', 20.142, (19.433333, -99.133333)),\n",
    "    ('New York-Newark', 'US', 20.104, (40.808611, -74.020386)),\n",
    "    ('Sao Paulo', 'BR', 19.649, (-23.547778, -46.635833))\n",
    "]\n",
    "\n",
    "def main():\n",
    "    # ：15 表示宽度为15个字符，\n",
    "    # >9 表示数值右对齐且总宽度为9，\n",
    "    # 9.4f 表示将浮点数格式化为宽度为 9 个字符，其中包括小数点和小数部分的 4 位。左侧的空白会用空格填充。\n",
    "    print(f'{\"\":15} | {\"latitude\":>9} | {\"longitude\":>9}')\n",
    "    for record in metro_areas:\n",
    "        match record:\n",
    "            # case语句由两部分组成，第一部分是模式，第二部分是使用if关键字指定的卫语句（guard clause）。可选\n",
    "            case [name, _, _, (latitude, longitude)] if longitude <= 0:\n",
    "                print(f'{name:15} | {latitude:9.4f} | {longitude:9.4f}')\n"
   ]
  },
  {
   "cell_type": "markdown",
   "metadata": {},
   "source": [
    "一般来说，匹配对象需要同时满足以下条件才能匹配序列模式\n",
    "    · 匹配对象是序列\n",
    "    · 匹配对象的长度与模式长度相同\n",
    "    · 匹配对象的每个元素都与模式的对应元素匹配\n",
    "序列模式可以匹配collections.abc.Sequence的多数实际子类或者虚拟子类的实力，但是str, bytes, bytearray除外。\n",
    "\n",
    "标准库中的以下类型与序列模式兼容。\n",
    "    · list\n",
    "    · tuple\n",
    "    · range\n",
    "    · collections.deque\n",
    "    · array.array\n",
    "    · memoryview\n",
    "\n",
    "_符号在模式中有特殊意义：匹配相应位置上的任何一项但是不绑定匹配项的值。另外，_是唯一可在模式中多次出现的变量。\n",
    "\n",
    "添加类型信息可以让模式更具体。\n",
    "case \\[str(name), _, _, (float(lat), float(lon))\\]:\n",
    "在模式上下文中str(name)和float(lat)都是类型检查，而不是构造函数调用。\n",
    "可以用*_匹配任意数量的项且不绑定变量。\n",
    "case \\[str(name), *_, (float(lat), float(lon))\\]:\n",
    "以if开头的卫语句是可选的，仅当匹配模式时才会执行。\n",
    "\n",
    "# 2.7 切片\n",
    "## 2.7.1 为什么切片和区间排除最后一项\n",
    "    Python的切片和区间都是左闭右开的，这样做的优点有：\n",
    "    · 当只有最后一个位置信息时，可以快速看出切片和区间里有几个元素：range(3)和my_list\\[:3\\]都返回3个元素。\n",
    "    · 当起止位置信息都可见时，可以快速计算出切片和区间的长度，用后一个数减去第一个下标（stop - start）即可。\n",
    "    · 可以利用任意一个下标把序列分割成不重叠的两部分，只要写成my_list\\[:x\\]和my_list\\[x:\\]就可以了。\n"
   ]
  },
  {
   "cell_type": "code",
   "execution_count": 18,
   "metadata": {},
   "outputs": [
    {
     "name": "stdout",
     "output_type": "stream",
     "text": [
      "[1, 2]\n",
      "[3]\n"
     ]
    }
   ],
   "source": [
    "l = [1, 2, 3]\n",
    "print(l[:2])\n",
    "print(l[2:])"
   ]
  },
  {
   "cell_type": "markdown",
   "metadata": {},
   "source": [
    "## 2.7.2 切片对象\n",
    "    我们可以使用s[a:b:c]的形式对s在a和b之间以c为间隔取值。c的值还可以为负数，负数意味着反向取值。"
   ]
  },
  {
   "cell_type": "code",
   "execution_count": null,
   "metadata": {},
   "outputs": [],
   "source": [
    "s = 'bicycle'\n",
    "print(s[::3])\n",
    "print(s[::-1])\n",
    "print(s[::-2])"
   ]
  },
  {
   "cell_type": "markdown",
   "metadata": {},
   "source": [
    "a:b:c这种用法只能作为索引或下标用在[]中来返回一个切片对象：slice(a, b, c)。可以单独为切片对象命名。"
   ]
  },
  {
   "cell_type": "code",
   "execution_count": null,
   "metadata": {},
   "outputs": [],
   "source": [
    "invoice = \"\"\"\n",
    "0.....6.................................40........52...55........\n",
    "1909  Pimoroni PiBrella                    $17.50    3    $52.50\n",
    "1489  6mm Tactile Switch x20                $4.95    2     $9.90\n",
    "1510  Panavise Jr. - PV-201                $28.00    1    $28.00\n",
    "1601  PiTFT Mini Kit 320x240               $34.95    1    $34.95\n",
    "\"\"\"\n",
    "SKU = slice(0, 6)\n",
    "DESCRIPTION = slice(6, 40)\n",
    "UNIT_PRICE = slice(40, 52)\n",
    "QUANTITY = slice(52, 55)\n",
    "ITEM_TOTAL = slice(55,None)\n",
    "line_items = invoice.split('\\n')[2:]\n",
    "for item in line_items:\n",
    "    print(item[UNIT_PRICE], item[DESCRIPTION])"
   ]
  },
  {
   "cell_type": "markdown",
   "metadata": {},
   "source": [
    "## 2.7.3 多维切片和省略号\n",
    "    []运算符还可以接受多个索引或切片，用逗号分隔。例如，a\\[m:n, k:l\\]返回一个二维切片对象，它包含a的第m到n-1行、第k到l-1列的交叉区域。\n",
    "    除了memoryview之外，没有内置的类型支持多维切片。\n",
    "    省略号写作(...), 它其实是Ellipsis的别名，Ellipsis是Python中的单例，可以用a\\[...\\]取代a\\[:\\]。\n",
    "\n",
    "## 2.7.4 给切片赋值\n",
    "    "
   ]
  },
  {
   "cell_type": "code",
   "execution_count": null,
   "metadata": {},
   "outputs": [],
   "source": [
    "l = list(range(10))\n",
    "print(l)\n",
    "l[2:5] = [20, 30]\n",
    "print(l)\n",
    "del l[5:7]\n",
    "print(l)\n",
    "l[3::2] = [11, 22]\n",
    "print(l)\n",
    "try:\n",
    "    l[2:5] = 100\n",
    "except TypeError:\n",
    "    print('Type Error')\n",
    "# 如果赋值目标是一个切片，则右边必须是一个可迭代对象，即使只有一个值。\n",
    "l[2:5] = [100]\n",
    "print(l)"
   ]
  },
  {
   "cell_type": "markdown",
   "metadata": {},
   "source": [
    "# 2.8 使用+和*处理序列\n",
    "    通常+两端的两个对象必须为同一类型的序列，结果是一个同类型的新序列。\n",
    "    如果想多次拼接同一个序列，可以乘一个整数。"
   ]
  },
  {
   "cell_type": "code",
   "execution_count": null,
   "metadata": {},
   "outputs": [],
   "source": [
    "l = [1, 2, 3]\n",
    "print(l * 5)\n",
    "print(5 * 'abcd')\n",
    "# 注意乘法中的运算对象中包含可变项的话，复制出来的是多个引用，而不是副本"
   ]
  },
  {
   "cell_type": "markdown",
   "metadata": {},
   "source": [
    "## 2.8.1 构建嵌套列表"
   ]
  },
  {
   "cell_type": "code",
   "execution_count": null,
   "metadata": {},
   "outputs": [],
   "source": [
    "board = [['_'] * 3 for i in range(3)]\n",
    "print(board)\n",
    "board[1][2] = 'X'\n",
    "print(board)\n",
    "\n",
    "# 等同于\n",
    "board = []\n",
    "for i in range(3):\n",
    "    row = ['_'] * 3\n",
    "    board.append(row)\n",
    "\n",
    "# 错误的示例\n",
    "weird_board = [['_'] * 3] * 3\n",
    "print(weird_board)\n",
    "weird_board[1][2] = 'O'\n",
    "print(weird_board)\n",
    "\n",
    "# 等同于\n",
    "row = ['_'] * 3\n",
    "board = []\n",
    "for i in range(3):\n",
    "    board.append(row)"
   ]
  },
  {
   "cell_type": "markdown",
   "metadata": {},
   "source": [
    "## 2.8.2 使用增量赋值运算符处理序列\n",
    "    +=背后的特殊方法是\\_\\_iadd\\_\\_（就地相加），但是如果一个类没有实现这个方法的话，Python会退一步调用\\_\\_add\\_\\_。"
   ]
  },
  {
   "cell_type": "code",
   "execution_count": null,
   "metadata": {},
   "outputs": [],
   "source": [
    "l = [1, 2, 3]\n",
    "print(id(l))\n",
    "l *= 2\n",
    "print(l)\n",
    "# l没有变\n",
    "print(id(l))\n",
    "\n",
    "t = (1, 2, 3)\n",
    "print(id(t))\n",
    "t *= 2\n",
    "# 创建了一个新元组t\n",
    "print(t)"
   ]
  },
  {
   "cell_type": "markdown",
   "metadata": {},
   "source": [
    "## 2.8.3 一个+=运算符赋值谜题"
   ]
  },
  {
   "cell_type": "code",
   "execution_count": null,
   "metadata": {},
   "outputs": [],
   "source": [
    "t = (1, 2, [30, 40])\n",
    "try:\n",
    "    t[2] += [50, 60]\n",
    "except TypeError as e:\n",
    "    print(e)\n",
    "print(t)"
   ]
  },
  {
   "cell_type": "markdown",
   "metadata": {},
   "source": [
    "s\\[a\\] += b的字节码解释\n",
    "1. 把s\\[a\\]的值放在栈顶（TOS）。\n",
    "2. 执行 TOS += b。如果TOS引用的是一个可变对象，则操作成功。\n",
    "3. 赋值s\\[a\\] = TOS。如果s是不可变对象，则操作失败。\n",
    "\n",
    "教训\n",
    "1. 不要把可变对象放在元组里面。\n",
    "2. 增量赋值不是一个原子操作。我们刚才也看到了，它虽然抛出了异常，但还是完成了操作。\n",
    "3. 查看Python的字节码并不难，而且它对我们了解代码背后的运行机制很有帮助。\n",
    "\n",
    "# 2.9 list.sort与内置函数sorted\n",
    "    list.sort方法就地排序列表，返回值为None。\n",
    "    内置函数sorted会新建一个列表作为返回值。\n",
    "\n",
    "    list.sort和sorted均接受两个可选的关键字参数。\n",
    "    reverse\n",
    "        为True时降序返回项，默认False\n",
    "    key\n",
    "        一个只接受一个参数的函数，应用到每一项上，作为排序依据。"
   ]
  },
  {
   "cell_type": "code",
   "execution_count": 30,
   "metadata": {},
   "outputs": [
    {
     "name": "stdout",
     "output_type": "stream",
     "text": [
      "['apple', 'banana', 'grape', 'raspberry']\n",
      "['grape', 'raspberry', 'apple', 'banana']\n",
      "['raspberry', 'grape', 'banana', 'apple']\n",
      "['grape', 'apple', 'banana', 'raspberry']\n",
      "['raspberry', 'banana', 'grape', 'apple']\n",
      "['grape', 'raspberry', 'apple', 'banana']\n",
      "['apple', 'banana', 'grape', 'raspberry']\n"
     ]
    }
   ],
   "source": [
    "fruits = ['grape', 'raspberry', 'apple', 'banana']\n",
    "print(sorted(fruits))\n",
    "print(fruits)\n",
    "print(sorted(fruits, reverse=True))\n",
    "print(sorted(fruits, key=len))\n",
    "print(sorted(fruits, key=len, reverse=True))\n",
    "print(fruits)\n",
    "fruits.sort()\n",
    "print(fruits)"
   ]
  },
  {
   "cell_type": "markdown",
   "metadata": {},
   "source": [
    "# 2.10 当列表不适用时\n",
    "    使用数组处理上百万个浮点值可以节省大量内存。\n",
    "    如果经常需要在列表两端添加或者删除项，使用deque更合适。\n",
    "## 2.10.1 数组\n",
    "    如果一个列表只包含数值，那么使用array.array会更高效。"
   ]
  },
  {
   "cell_type": "code",
   "execution_count": null,
   "metadata": {},
   "outputs": [],
   "source": [
    "from array import array\n",
    "from random import random\n",
    "floats = array('d', (random() for i in range(10**7)))\n",
    "print(floats[-1])"
   ]
  },
  {
   "cell_type": "markdown",
   "metadata": {},
   "source": [
    "## 2.10.2 memoryview\n",
    "    内置的memoryview类是一种共享内存的序列类型，可在不复制字节的情况下处理数组的切片。"
   ]
  },
  {
   "cell_type": "code",
   "execution_count": null,
   "metadata": {},
   "outputs": [],
   "source": [
    "from array import array\n",
    "octets = array('B', range(6))\n",
    "m1 = memoryview(octets)\n",
    "print(m1.tolist())\n",
    "\n",
    "m2 = m1.cast('B', [2, 3])\n",
    "print(m2.tolist())\n",
    "\n",
    "m3 = m1.cast('B', [3, 2])\n",
    "print(m3.tolist())\n",
    "\n",
    "m2[1, 1] = 22\n",
    "m3[1, 1] = 33\n",
    "print(octets)\n",
    "\n",
    "\n",
    "numbers = array('h', [-2, -1, 0, 1, 2])\n",
    "memv = memoryview(numbers)\n",
    "print(len(memv))\n",
    "print(memv[0])\n",
    "memv_oct = memv.cast('B')\n",
    "print(memv_oct.tolist())\n",
    "memv_oct[5] = 4\n",
    "print(numbers)\n"
   ]
  },
  {
   "cell_type": "markdown",
   "metadata": {},
   "source": [
    "## 2.10.3 NumPy\n",
    "    NumPy实现了多维同质数组和矩阵，这些数据结构不但能处理数字，还能存放其他由用户定义的记录。\n",
    "    在NumPy基础上编写的SciPy库提供了大量的数值算法，例如求解线性代数、数值积分和统计学上常用的算法。"
   ]
  },
  {
   "cell_type": "code",
   "execution_count": 39,
   "metadata": {},
   "outputs": [
    {
     "name": "stdout",
     "output_type": "stream",
     "text": [
      "Collecting numpy\n",
      "  Obtaining dependency information for numpy from https://files.pythonhosted.org/packages/55/78/f85aab3bda3ddffe6ce8c590190b5f0d2e61dfd2fb7a8f446dcb4f8c12c7/numpy-1.26.3-cp311-cp311-macosx_11_0_arm64.whl.metadata\n",
      "  Downloading numpy-1.26.3-cp311-cp311-macosx_11_0_arm64.whl.metadata (115 kB)\n",
      "\u001b[2K     \u001b[90m━━━━━━━━━━━━━━━━━━━━━━━━━━━━━━━━━━━━━\u001b[0m \u001b[32m115.1/115.1 kB\u001b[0m \u001b[31m183.1 kB/s\u001b[0m eta \u001b[36m0:00:00\u001b[0ma \u001b[36m0:00:01\u001b[0m\n",
      "\u001b[?25hDownloading numpy-1.26.3-cp311-cp311-macosx_11_0_arm64.whl (14.0 MB)\n",
      "\u001b[2K   \u001b[90m━━━━━━━━━━━━━━━━━━━━━━━━━━━━━━━━━━━━━━━━\u001b[0m \u001b[32m14.0/14.0 MB\u001b[0m \u001b[31m19.8 MB/s\u001b[0m eta \u001b[36m0:00:00\u001b[0m00:01\u001b[0m00:01\u001b[0m\n",
      "\u001b[?25hInstalling collected packages: numpy\n",
      "Successfully installed numpy-1.26.3\n",
      "\n",
      "\u001b[1m[\u001b[0m\u001b[34;49mnotice\u001b[0m\u001b[1;39;49m]\u001b[0m\u001b[39;49m A new release of pip is available: \u001b[0m\u001b[31;49m23.2.1\u001b[0m\u001b[39;49m -> \u001b[0m\u001b[32;49m23.3.2\u001b[0m\n",
      "\u001b[1m[\u001b[0m\u001b[34;49mnotice\u001b[0m\u001b[1;39;49m]\u001b[0m\u001b[39;49m To update, run: \u001b[0m\u001b[32;49mpip3 install --upgrade pip\u001b[0m\n",
      "[ 0  1  2  3  4  5  6  7  8  9 10 11]\n",
      "<class 'numpy.ndarray'>\n",
      "(12,)\n",
      "[[ 0  1  2  3]\n",
      " [ 4  5  6  7]\n",
      " [ 8  9 10 11]]\n",
      "[ 8  9 10 11]\n",
      "9\n",
      "[1 5 9]\n",
      "[[ 0  4  8]\n",
      " [ 1  5  9]\n",
      " [ 2  6 10]\n",
      " [ 3  7 11]]\n"
     ]
    }
   ],
   "source": [
    "!pip3 install numpy\n",
    "\n",
    "import numpy as np\n",
    "a = np.arange(12)\n",
    "print(a)\n",
    "print(type(a))\n",
    "print(a.shape)\n",
    "a.shape = 3, 4\n",
    "print(a)\n",
    "print(a[2])\n",
    "print(a[2, 1])\n",
    "print(a[:, 1])\n",
    "print(a.transpose())"
   ]
  },
  {
   "cell_type": "markdown",
   "metadata": {},
   "source": [
    "## 2.10.4 双端队列和其他队列\n",
    "    collections.deque类（双端队列）是一个线程安全、可以快速从两端添加或者删除元素的数据类型。"
   ]
  },
  {
   "cell_type": "code",
   "execution_count": 45,
   "metadata": {},
   "outputs": [
    {
     "name": "stdout",
     "output_type": "stream",
     "text": [
      "deque([0, 1, 2, 3, 4, 5, 6, 7, 8, 9], maxlen=10)\n",
      "deque([7, 8, 9, 0, 1, 2, 3, 4, 5, 6], maxlen=10)\n",
      "deque([1, 2, 3, 4, 5, 6, 7, 8, 9, 0], maxlen=10)\n",
      "deque([-1, 1, 2, 3, 4, 5, 6, 7, 8, 9], maxlen=10)\n",
      "deque([3, 4, 5, 6, 7, 8, 9, 11, 22, 33], maxlen=10)\n",
      "deque([40, 30, 20, 10, 3, 4, 5, 6, 7, 8], maxlen=10)\n"
     ]
    }
   ],
   "source": [
    "from collections import deque\n",
    "dq = deque(range(10), maxlen=10)\n",
    "print(dq)\n",
    "dq.rotate(3)\n",
    "print(dq)\n",
    "dq.rotate(-4)\n",
    "print(dq)\n",
    "dq.appendleft(-1)\n",
    "print(dq)\n",
    "dq.extend([11, 22, 33])\n",
    "print(dq)\n",
    "dq.extendleft([10, 20, 30, 40])\n",
    "print(dq)"
   ]
  }
 ],
 "metadata": {
  "kernelspec": {
   "display_name": "Python 3",
   "language": "python",
   "name": "python3"
  },
  "language_info": {
   "codemirror_mode": {
    "name": "ipython",
    "version": 3
   },
   "file_extension": ".py",
   "mimetype": "text/x-python",
   "name": "python",
   "nbconvert_exporter": "python",
   "pygments_lexer": "ipython3",
   "version": "3.11.5"
  }
 },
 "nbformat": 4,
 "nbformat_minor": 2
}
