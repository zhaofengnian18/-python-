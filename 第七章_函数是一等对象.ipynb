{
 "cells": [
  {
   "cell_type": "markdown",
   "metadata": {},
   "source": [
    "# 7 函数是一等对象\n",
    "\n",
    "Python并不是函数式语言\n",
    "\n",
    "一等对象定义\n",
    "- 在运行时创建\n",
    "- 能赋值给变量或数据结构中的元素\n",
    "- 能作为参数传给函数\n",
    "- 能作为函数的返回结果\n",
    "\n",
    "## 7.2 把函数视为对象"
   ]
  },
  {
   "cell_type": "code",
   "execution_count": 3,
   "metadata": {},
   "outputs": [
    {
     "name": "stdout",
     "output_type": "stream",
     "text": [
      "120\n",
      "returns n!\n",
      "<class 'function'>\n",
      "<function factorial at 0x1079b2d40>\n",
      "120\n",
      "<map object at 0x10798f070>\n",
      "[1, 1, 2, 6, 24, 120, 720, 5040, 40320, 362880, 3628800]\n"
     ]
    }
   ],
   "source": [
    "def factorial(n):\n",
    "    \"\"\"returns n!\"\"\"\n",
    "    if n == 0:\n",
    "        return 1\n",
    "    else:\n",
    "        return n * factorial(n-1)\n",
    "    \n",
    "print(factorial(5))\n",
    "print(factorial.__doc__)\n",
    "print(type(factorial))\n",
    "\n",
    "fact = factorial\n",
    "print(fact)\n",
    "print(fact(5))\n",
    "# map(function, iterable)调用会返回一个可迭代对象，所含的项是把第二个参数（可迭代对象）中的每个元素都传入第一个参数（函数）中得到的结果\n",
    "print(map(factorial, range(11)))\n",
    "print(list(map(fact, range(11))) )"
   ]
  },
  {
   "cell_type": "markdown",
   "metadata": {},
   "source": [
    "## 7.3 高阶函数\n",
    "\n",
    "接受函数为参数，或者把函数作为结果返回的函数是高阶函数（higher-order function）\n",
    "map就是一个高阶函数， sorted也是一个高阶函数"
   ]
  },
  {
   "cell_type": "code",
   "execution_count": 6,
   "metadata": {},
   "outputs": [
    {
     "name": "stdout",
     "output_type": "stream",
     "text": [
      "['fig', 'apple', 'cherry', 'banana', 'raspberry', 'strawberry']\n",
      "gnitset\n",
      "['banana', 'apple', 'fig', 'raspberry', 'strawberry', 'cherry']\n"
     ]
    }
   ],
   "source": [
    "fruits = ['strawberry', 'fig', 'apple', 'cherry', 'raspberry', 'banana']\n",
    "print(sorted(fruits, key=len))\n",
    "\n",
    "def reverse(word):\n",
    "    return word[::-1]\n",
    "\n",
    "print(reverse('testing'))\n",
    "\n",
    "print(sorted(fruits, key=reverse))"
   ]
  },
  {
   "cell_type": "code",
   "execution_count": 9,
   "metadata": {},
   "outputs": [
    {
     "name": "stdout",
     "output_type": "stream",
     "text": [
      "[1, 1, 2, 6, 24, 120]\n",
      "[1, 1, 2, 6, 24, 120]\n",
      "[1, 6, 120]\n",
      "[1, 6, 120]\n",
      "4950\n",
      "4950\n"
     ]
    }
   ],
   "source": [
    "# map，filter和reduce的替代品\n",
    "def factorial(n):\n",
    "    \"\"\"returns n!\"\"\"\n",
    "    if n == 0:\n",
    "        return 1\n",
    "    else:\n",
    "        return n * factorial(n-1)\n",
    "\n",
    "print(list(map(factorial, range(6))))\n",
    "print([factorial(n) for n in range(6)])\n",
    "\n",
    "print(list(map(factorial, filter(lambda n: n % 2, range(6)))))\n",
    "print([factorial(n) for n in range(6) if n % 2])\n",
    "\n",
    "from functools import reduce\n",
    "from operator import add\n",
    "print(reduce(add, range(100)))\n",
    "print(sum(range(100)))"
   ]
  },
  {
   "cell_type": "markdown",
   "metadata": {},
   "source": [
    "## 7.4 匿名函数\n",
    "\n",
    "lambda关键字在Python表达式内创建匿名函数,lambda函数的主体只能是纯粹的表达式。"
   ]
  },
  {
   "cell_type": "code",
   "execution_count": 10,
   "metadata": {},
   "outputs": [
    {
     "name": "stdout",
     "output_type": "stream",
     "text": [
      "['banana', 'apple', 'fig', 'raspberry', 'strawberry', 'cherry']\n"
     ]
    }
   ],
   "source": [
    "fruits = ['strawberry', 'fig', 'apple', 'cherry', 'raspberry', 'banana']\n",
    "print(sorted(fruits, key=lambda word: word[::-1]))\n"
   ]
  },
  {
   "cell_type": "markdown",
   "metadata": {},
   "source": [
    "## 7.5 9种可调用对象\n",
    "\n",
    "想判断对象能否调用，可以使用内置的callable()函数\n",
    "\n",
    "- 用户定义的函数\n",
    "    使用def或lambda创建\n",
    "- 内置函数\n",
    "    使用C语言（CPython）实现的函数，如len或time.strftime\n",
    "- 内置方法\n",
    "    使用C语言实现的方法，如dict.get\n",
    "- 方法\n",
    "    在类的定义体中定义的函数\n",
    "- 类\n",
    "    调用类时运行类的__new__方法创建一个实例，然后运行__init__方法，初始化实例，最后把实例返回给调用方\n",
    "- 类的实例\n",
    "    如果类定义了__call__方法，那么它的实例可以作为函数调用\n",
    "- 生成器函数\n",
    "    使用yield关键字的函数或方法。调用生成器函数返回的是生成器对象\n",
    "- 协程\n",
    "    使用async def定义的函数，调用协程函数会返回一个协程对象\n",
    "- 异步生成器\n",
    "    使用async def定义，并且使用yield关键字的函数\n",
    "\n",
    "生成器、协程和异步生成器的返回值不是数据，而是需要进一步处理的对象。\n",
    "生成器函数会返回迭代器。\n",
    "原生协程和异步生成器函数返回的对象只能由异步编程框架（如asyncio）使用。"
   ]
  },
  {
   "cell_type": "code",
   "execution_count": 12,
   "metadata": {},
   "outputs": [
    {
     "name": "stdout",
     "output_type": "stream",
     "text": [
      "[True, True, False]\n"
     ]
    }
   ],
   "source": [
    "print([callable(obj) for obj in (abs, str, 13)])"
   ]
  },
  {
   "cell_type": "markdown",
   "metadata": {},
   "source": [
    "## 7.6 用户定义的可调用类型\n",
    "\n",
    "任何Python对象都可以表现得像函数。只需实现实例方法__call__。"
   ]
  },
  {
   "cell_type": "code",
   "execution_count": 13,
   "metadata": {},
   "outputs": [
    {
     "name": "stdout",
     "output_type": "stream",
     "text": [
      "2\n",
      "0\n"
     ]
    }
   ],
   "source": [
    "import random\n",
    "class BingoCage:\n",
    "    def __init__(self, items):\n",
    "        self._items = list(items)\n",
    "        # 打乱顺序\n",
    "        random.shuffle(self._items)\n",
    "        \n",
    "    def pick(self):\n",
    "        try:\n",
    "            return self._items.pop()\n",
    "        except IndexError:\n",
    "            raise LookupError('pick from empty BingoCage')\n",
    "        \n",
    "    def __call__(self):\n",
    "        return self.pick()\n",
    "    \n",
    "bingo = BingoCage(range(3))\n",
    "print(bingo.pick())\n",
    "print(bingo())"
   ]
  },
  {
   "cell_type": "markdown",
   "metadata": {},
   "source": [
    "## 7.7 从位置参数到仅限关键字参数"
   ]
  },
  {
   "cell_type": "code",
   "execution_count": 14,
   "metadata": {},
   "outputs": [
    {
     "name": "stdout",
     "output_type": "stream",
     "text": [
      "<br />\n",
      "<p>hello</p>\n",
      "<p>hello</p>\n",
      "<p>world</p>\n",
      "<p id=\"33\">hello</p>\n",
      "<p class=\"sidebar\">hello</p>\n",
      "<p class=\"sidebar\">world</p>\n",
      "<img content=\"testing\" />\n",
      "<img cls=\"framed\" src=\"sunset.jpg\" title=\"Sunset Boulevard\" />\n"
     ]
    }
   ],
   "source": [
    "# 使用class_作为关键字参数，是为了避免与Python关键字class发生冲突\n",
    "def tag(name, *content, class_=None, **attrs):\n",
    "    \"\"\"生成一个或多个HTML标签\"\"\"\n",
    "    if class_ is not None:\n",
    "        attrs['class'] = class_\n",
    "    attr_pairs = (f' {attr}=\"{value}\"' for attr, value in sorted(attrs.items()))\n",
    "    attr_str = ''.join(attr_pairs)\n",
    "    if content:\n",
    "        return '\\n'.join('<%s%s>%s</%s>' % (name, attr_str, c, name) for c in content)\n",
    "    else:\n",
    "        return '<%s%s />' % (name, attr_str)\n",
    "    \n",
    "print(tag('br'))\n",
    "print(tag('p', 'hello'))\n",
    "print(tag('p', 'hello', 'world'))\n",
    "print(tag('p', 'hello', id=33))\n",
    "print(tag('p', 'hello', 'world', class_='sidebar'))\n",
    "print(tag(content='testing', name='img'))\n",
    "my_tag = {'name': 'img', 'title': 'Sunset Boulevard', 'src': 'sunset.jpg', 'cls': 'framed'}\n",
    "print(tag(**my_tag))"
   ]
  },
  {
   "cell_type": "markdown",
   "metadata": {},
   "source": [
    "定义函数时，如果想指定仅限关键字参数，要把它们放到前面有\\*的参数后面。如果不想支持数量不定的定位参数，但是想支持仅限关键字参数，在签名中放一个\\*。"
   ]
  },
  {
   "cell_type": "code",
   "execution_count": 17,
   "metadata": {},
   "outputs": [
    {
     "name": "stdout",
     "output_type": "stream",
     "text": [
      "(1, 2)\n",
      "f() takes 1 positional argument but 2 were given\n"
     ]
    }
   ],
   "source": [
    "def f(a, *, b):\n",
    "    return a, b\n",
    "\n",
    "print(f(1, b=2))\n",
    "try:\n",
    "    print(f(1, 2))\n",
    "except Exception as e:\n",
    "    print(e)\n",
    "\n",
    "# 仅限位置参数\n",
    "# / 之前的参数只能通过位置参数指定, / 之后的参数既可以通过位置参数指定，也可以通过关键字参数指定\n",
    "def divmod(a, b, /):\n",
    "    return (a // b, a % b)"
   ]
  },
  {
   "cell_type": "markdown",
   "metadata": {},
   "source": [
    "## 7.8 支持函数式编程的包\n",
    "\n",
    "### 7.8.1 operator模块\n",
    "\n",
    "operator模块为多个算术运算符提供了对应的函数，从而避免编写lambda a, b: a*b这种平凡的匿名函数。"
   ]
  },
  {
   "cell_type": "code",
   "execution_count": null,
   "metadata": {},
   "outputs": [],
   "source": [
    "from functools import reduce\n",
    "from operator import mul\n",
    "\n",
    "def factorial(n):\n",
    "    return reduce(mul, range(1, n+1))"
   ]
  },
  {
   "cell_type": "markdown",
   "metadata": {},
   "source": [
    "operator模块中还有一类函数，能替代从序列中取出元素或读取对象属性的lambda表达式：itemgetter和attrgetter。"
   ]
  },
  {
   "cell_type": "code",
   "execution_count": 19,
   "metadata": {},
   "outputs": [
    {
     "name": "stdout",
     "output_type": "stream",
     "text": [
      "('Sao Paulo', 'BR', 19.649, (-23.547778, -46.635833))\n",
      "('Delhi NCR', 'IN', 21.935, (28.613889, 77.208889))\n",
      "('Tokyo', 'JP', 36.933, (35.689722, 139.691667))\n",
      "('Mexico City', 'MX', 20.142, (19.433333, -99.133333))\n",
      "('New York-Newark', 'US', 20.104, (40.808611, -74.020386))\n",
      "('JP', 'Tokyo')\n",
      "('IN', 'Delhi NCR')\n",
      "('MX', 'Mexico City')\n",
      "('US', 'New York-Newark')\n",
      "('BR', 'Sao Paulo')\n"
     ]
    }
   ],
   "source": [
    "metro_data = [\n",
    "    ('Tokyo', 'JP', 36.933, (35.689722, 139.691667)),\n",
    "    ('Delhi NCR', 'IN', 21.935, (28.613889, 77.208889)),\n",
    "    ('Mexico City', 'MX', 20.142, (19.433333, -99.133333)),\n",
    "    ('New York-Newark', 'US', 20.104, (40.808611, -74.020386)),\n",
    "    ('Sao Paulo', 'BR', 19.649, (-23.547778, -46.635833)),\n",
    "]\n",
    "from operator import itemgetter\n",
    "for city in sorted(metro_data, key=itemgetter(1)):\n",
    "    print(city)\n",
    "\n",
    "cc_name = itemgetter(1, 0)\n",
    "for city in metro_data:\n",
    "    print(cc_name(city))"
   ]
  },
  {
   "cell_type": "markdown",
   "metadata": {},
   "source": [
    "attrgetter创建的函数会根据名称从对象中获取指定的属性。如果把多个属性名传给attrgetter，它也会返回提取的值构成的元组。\n",
    "此外，如果参数名中包含.（点号），attrgetter会深入嵌套对象，获取指定的属性。"
   ]
  },
  {
   "cell_type": "code",
   "execution_count": 21,
   "metadata": {},
   "outputs": [
    {
     "name": "stdout",
     "output_type": "stream",
     "text": [
      "Metropolis(name='Tokyo', cc='JP', pop=36.933, coord=LatLong(lat=35.689722, long=139.691667))\n",
      "('Sao Paulo', -23.547778)\n",
      "('Mexico City', 19.433333)\n",
      "('Delhi NCR', 28.613889)\n",
      "('Tokyo', 35.689722)\n",
      "('New York-Newark', 40.808611)\n"
     ]
    }
   ],
   "source": [
    "from collections import namedtuple\n",
    "LatLong = namedtuple('LatLong', 'lat long')\n",
    "Metropolis = namedtuple('Metropolis', 'name cc pop coord')\n",
    "metro_areas = [Metropolis(name, cc, pop, LatLong(lat, long)) for name, cc, pop, (lat, long) in metro_data]\n",
    "print(metro_areas[0])\n",
    "\n",
    "from operator import attrgetter\n",
    "name_lat = attrgetter('name', 'coord.lat')\n",
    "\n",
    "for city in sorted(metro_areas, key=attrgetter('coord.lat')):\n",
    "    print(name_lat(city))"
   ]
  },
  {
   "cell_type": "code",
   "execution_count": 22,
   "metadata": {},
   "outputs": [
    {
     "name": "stdout",
     "output_type": "stream",
     "text": [
      "THE TIME HAS COME\n",
      "The-time-has-come\n"
     ]
    }
   ],
   "source": [
    "from operator import methodcaller\n",
    "s = 'The time has come'\n",
    "upcase = methodcaller('upper')\n",
    "print(upcase(s))\n",
    "hiphenate = methodcaller('replace', ' ', '-')\n",
    "print(hiphenate(s))"
   ]
  },
  {
   "cell_type": "markdown",
   "metadata": {},
   "source": [
    "### 7.8.2 使用functools.partial冻结参数\n",
    "\n",
    "functools模块提供了一系列高阶函数，其中functools.partial可以根据提供的可调用对象产生一个新的可调用对象，把原对象的某些参数固定。使用这个函数可以把接受一个或多个参数的函数改编成需要回调的API，这样参数更少。"
   ]
  },
  {
   "cell_type": "code",
   "execution_count": 23,
   "metadata": {},
   "outputs": [
    {
     "name": "stdout",
     "output_type": "stream",
     "text": [
      "21\n",
      "[3, 6, 9, 12, 15, 18, 21, 24, 27]\n"
     ]
    }
   ],
   "source": [
    "from operator import mul\n",
    "from functools import partial\n",
    "\n",
    "triple = partial(mul, 3)\n",
    "print(triple(7))\n",
    "\n",
    "print(list(map(triple, range(1, 10))))"
   ]
  },
  {
   "cell_type": "code",
   "execution_count": 24,
   "metadata": {},
   "outputs": [
    {
     "name": "stdout",
     "output_type": "stream",
     "text": [
      "<img class=\"pic-frame\" src=\"wumpus.jpeg\" />\n"
     ]
    }
   ],
   "source": [
    "# 使用partial冻结一个位置参数和一个关键字参数\n",
    "def tag(name, *content, cls=None, **attrs):\n",
    "    \"\"\"生成一个或多个HTML标签\"\"\"\n",
    "    if cls is not None:\n",
    "        attrs['class'] = cls\n",
    "    if attrs:\n",
    "        attr_str = ''.join(f' {attr}=\"{value}\"' for attr, value in sorted(attrs.items()))\n",
    "    else:\n",
    "        attr_str = ''\n",
    "    if content:\n",
    "        return '\\n'.join(f'<{name}{attr_str}>{c}</{name}>' for c in content)\n",
    "    else:\n",
    "        return f'<{name}{attr_str} />'\n",
    "\n",
    "from functools import partial\n",
    "\n",
    "picture = partial(tag, 'img', cls='pic-frame')\n",
    "\n",
    "print(picture(src='wumpus.jpeg'))"
   ]
  }
 ],
 "metadata": {
  "kernelspec": {
   "display_name": "Python 3",
   "language": "python",
   "name": "python3"
  },
  "language_info": {
   "codemirror_mode": {
    "name": "ipython",
    "version": 3
   },
   "file_extension": ".py",
   "mimetype": "text/x-python",
   "name": "python",
   "nbconvert_exporter": "python",
   "pygments_lexer": "ipython3",
   "version": "3.11.5"
  }
 },
 "nbformat": 4,
 "nbformat_minor": 2
}
