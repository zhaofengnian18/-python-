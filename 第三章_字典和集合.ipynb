{
 "cells": [
  {
   "cell_type": "markdown",
   "metadata": {},
   "source": [
    "\n",
    "# 3.2 字典的现代句法\n",
    "## 3.2.1 字典推导式\n",
    "    "
   ]
  },
  {
   "cell_type": "code",
   "execution_count": null,
   "metadata": {},
   "outputs": [],
   "source": [
    "dial_codes = [\n",
    "    (86, 'China'),\n",
    "    (91, 'India'),\n",
    "    (1, 'United States'),\n",
    "    (62, 'Indonesia'),\n",
    "    (55, 'Brazil'),\n",
    "    (92, 'Pakistan'),\n",
    "    (880, 'Bangladesh'),\n",
    "    (234, 'Nigeria'),\n",
    "    (7, 'Russia'),\n",
    "    (81, 'Japan'),\n",
    "]\n",
    "\n",
    "country_code = {country: code for code, country in dial_codes}\n",
    "print(country_code)\n",
    "\n",
    "print({code: country.upper() for country, code in country_code.items() if code < 66})"
   ]
  },
  {
   "cell_type": "markdown",
   "metadata": {},
   "source": [
    "## 3.2.2 映射拆包"
   ]
  },
  {
   "cell_type": "code",
   "execution_count": null,
   "metadata": {},
   "outputs": [],
   "source": [
    "def dump(**kwargs):\n",
    "    print(kwargs)\n",
    "\n",
    "print(dump(**{'x':1}, y=2, **{'z':3}))\n",
    "\n",
    "print({'a':0, **{'b':1}, **{'c':2, 'b':3}})"
   ]
  },
  {
   "cell_type": "markdown",
   "metadata": {},
   "source": [
    "## 3.2.3 使用|合并映射"
   ]
  },
  {
   "cell_type": "code",
   "execution_count": null,
   "metadata": {},
   "outputs": [],
   "source": [
    "d1 = {'a':1, 'b':2}\n",
    "d2 = {'b':3, 'c':4}\n",
    "\n",
    "print(d1 | d2)\n",
    "# 通常合并的新map的类型与左边的map类型相同\n",
    "\n",
    "# 就地更新\n",
    "d1 |= d2\n",
    "print(d1)"
   ]
  },
  {
   "cell_type": "markdown",
   "metadata": {},
   "source": [
    "# 3.3 使用模式匹配处理映射\n",
    "    match/case语句的匹配对象可以是映射，能匹配collections.abc.Mapping的任何具体子类或虚拟子类\n"
   ]
  },
  {
   "cell_type": "code",
   "execution_count": null,
   "metadata": {},
   "outputs": [],
   "source": [
    "def get_creators(record:dict) -> list:\n",
    "    match record:\n",
    "        case {'type': 'book', 'api': 2, 'authors': [*names]}:\n",
    "            return names\n",
    "        case {'type': 'book', 'api': 1, 'authors': name}:\n",
    "            return [name]\n",
    "        case {'type': 'book'}:\n",
    "            raise ValueError(f\"Missing 'authors' field: {record!r}\")\n",
    "        case {'type': 'movie', 'director': name}:\n",
    "            return [name]\n",
    "        case _:\n",
    "            raise ValueError(f\"Unsupported record: {record!r}\")\n",
    "        \n",
    "b1 = dict(type='book', api=2, authors=['Aldous Huxley'], title='Brave New World')\n",
    "print(get_creators(b1))\n",
    "\n",
    "from collections import OrderedDict\n",
    "# 模式中键的顺序不重要\n",
    "b2 = OrderedDict(type='book', api=2, authors=['Aldous Huxley'], title='Brave New World')\n",
    "print(get_creators(b2))"
   ]
  },
  {
   "cell_type": "markdown",
   "metadata": {},
   "source": [
    "与序列模式匹配不同的是，map只要部分匹配就算成功匹配。  \n",
    "可以使用**变量 来捕获剩余的键值对，不过必须放在模式的最后。"
   ]
  },
  {
   "cell_type": "code",
   "execution_count": null,
   "metadata": {},
   "outputs": [],
   "source": [
    "food = dict(category='ice cream', flavor='vanilla', cost=199)\n",
    "\n",
    "match food:\n",
    "    case {'category': 'ice cream', **details}:\n",
    "        print(f\"Ice cream details: {details}\")"
   ]
  },
  {
   "cell_type": "markdown",
   "metadata": {},
   "source": [
    "# 3.4 映射类型的标准API"
   ]
  },
  {
   "cell_type": "code",
   "execution_count": null,
   "metadata": {},
   "outputs": [],
   "source": [
    "import collections.abc as abc\n",
    "\n",
    "my_dict = {'a':1, 'b':2, 'c':3}\n",
    "print(isinstance(my_dict, abc.Mapping))\n",
    "print(isinstance(my_dict, abc.MutableMapping))"
   ]
  },
  {
   "cell_type": "markdown",
   "metadata": {},
   "source": [
    "想要自定义map类型，可以扩展collections.UserDict类或者通过组合模式包装dict。 键必须可哈希。\n",
    "\n",
    "## 3.4.1 “可哈希”指什么\n",
    "    如果一个对象的哈希码在整个生命周期中都不改变并且可以与其他对象进行比较，那么这个对象就是可哈希的。两个可哈希对象仅当哈希码相同时相等。"
   ]
  },
  {
   "cell_type": "code",
   "execution_count": null,
   "metadata": {},
   "outputs": [],
   "source": [
    "tt = (1, 2, (30, 40))\n",
    "print(hash(tt))\n",
    "\n",
    "# tuple包含可变对象list所以不可hash\n",
    "tl = (1, 2, [30, 40])\n",
    "# print(hash(tl))\n",
    "\n",
    "tf = (1, 2, frozenset([30, 40]))\n",
    "print(hash(tf))"
   ]
  },
  {
   "cell_type": "markdown",
   "metadata": {},
   "source": [
    "## 3.4.3 插入或更新可变值\n",
    "    使用setdefault方法，如果键不存在，就插入键值对，如果存在，就返回对应的值，不做修改。"
   ]
  },
  {
   "cell_type": "code",
   "execution_count": null,
   "metadata": {},
   "outputs": [],
   "source": [
    "d = {'a': 1}\n",
    "\n",
    "print(d.get('b', 2))\n",
    "print(d)\n",
    "\n",
    "print(d.setdefault('b', 2))\n",
    "print(d)"
   ]
  },
  {
   "cell_type": "markdown",
   "metadata": {},
   "source": [
    "# 3.5 自动处理缺失的键\n",
    "    有时搜索的键不一定存在，可以人为设置一个值，有两种办法：第一种是使用defaultdict类，第二种是实现__missing__方法。\n",
    "## 3.5.1 defaultdict：处理缺失键的另一种选择"
   ]
  },
  {
   "cell_type": "code",
   "execution_count": null,
   "metadata": {},
   "outputs": [],
   "source": [
    "from collections import defaultdict\n",
    "\n",
    "# dict[new_key] 语法会调用 list() 来生成默认值, 然后插入到字典中对应new_key的位置, 最后返回这个默认值\n",
    "dd = defaultdict(list)\n",
    "print(dd.get(\"a\"))\n",
    "print(dd[\"a\"])\n",
    "print(dd.get(\"a\"))"
   ]
  },
  {
   "cell_type": "markdown",
   "metadata": {},
   "source": [
    "## 3.5.2 __missing__方法\n",
    "    如果dict的子类定义了这个方法，那么dict.__getitem__找不到键时将会调用它，而不是抛出一个KeyError异常。"
   ]
  },
  {
   "cell_type": "code",
   "execution_count": null,
   "metadata": {},
   "outputs": [],
   "source": [
    "class StrKeyDict0(dict):\n",
    "    def __missing__(self, key):\n",
    "        if isinstance(key, str):\n",
    "            raise KeyError(key)\n",
    "        return self[str(key)]\n",
    "    \n",
    "    def get(self, key, default=None):\n",
    "        try:\n",
    "            return self[key]\n",
    "        except KeyError:\n",
    "            return default\n",
    "    # 未使用 k in dict语法是因为这样会导致 __contains__ 递归调用\n",
    "    def __contains__(self, key):\n",
    "        return key in self.keys() or str(key) in self.keys()\n",
    "\n",
    "d = StrKeyDict0([('2', 'two'), ('4', 'four')])\n",
    "print(d['2'])\n",
    "\n",
    "print(d[4])\n",
    "# print(d[1])\n",
    "print(d.get(1, 'N/A'))"
   ]
  },
  {
   "cell_type": "markdown",
   "metadata": {},
   "source": [
    "## 3.5.3 标准库对__missing__方法的使用不一致\n",
    "- dict子类\n",
    "    定义一个dict子类，只实现__missing__方法，这种情况下只有d\\[k\\]语法会调用__missing__方法。\n",
    "- collections.UserDict子类\n",
    "    定义一个UserDict子类，只实现__missing__方法，这种情况下d\\[k\\]和d.get(k)都会调用__missing__方法。\n",
    "- abc.Mapping子类\n",
    "    如果实现的__getitem__方法不调用__missing__方法，那么这个类永不触发__missing__方法。\n",
    "- abc.Mapping子类\n",
    "    如果实现的__getitem__方法调用__missing__方法，d\\[k\\]、d.get(k)和k in d这些操作就会触发__missing__方法。\n",
    "\n",
    "# 3.6 dict的变体\n",
    "## 3.6.1 collections.OrderedDict\n",
    "\n",
    "    从python3.6起，dict类型也是有序的。不过dict和OrderedDict有一些差异。\n",
    "\n",
    "- OrderedDict的相等检查考虑顺序\n",
    "- OrderedDict的popitem方法可通过一个可选参数指定移除哪一项。\n",
    "- OrderedDict多了一个move_to_end方法可以将任一现有键移动到另一端（默认是末尾，也可以是开头）。\n",
    "- 常规的dict顺序是次要的。\n",
    "- OrderedDict的目的是方便执行重新排序操作，性能是次要的。\n",
    "- OrderedDict处理频繁重新排序操作比dict好。\n",
    "\n",
    "## 3.6.2 collections.ChainMap\n",
    "    ChainMap实例存放一组映射，可作为一个整体来搜索，然后在进行键查找操作时，会按照输入顺序查找，查找到就结束。chainMap存放的是map的引用。"
   ]
  },
  {
   "cell_type": "code",
   "execution_count": null,
   "metadata": {},
   "outputs": [],
   "source": [
    "d1 = dict(a=1, b=3)\n",
    "d2 = dict(a=2, b=4, c=6)\n",
    "from collections import ChainMap\n",
    "chain = ChainMap(d1, d2)\n",
    "print(chain['a'])\n",
    "print(chain['c'])\n",
    "\n",
    "# chainMap的更新或者插入操作只影响第一个输入的map\n",
    "chain['c'] = -1\n",
    "print(chain['c'])\n",
    "print(d1['c'])\n",
    "print(d2['c'])"
   ]
  },
  {
   "cell_type": "markdown",
   "metadata": {},
   "source": [
    "## 3.6.3 collections.Counter\n",
    "    Counter是一种对键进行计数的映射。更新现有键，计数增加。可用于统计可哈希对象的实例数量，或者作为多重集（multiset）。Counter实现了+和-运算符，可以方便地进行合并。"
   ]
  },
  {
   "cell_type": "code",
   "execution_count": null,
   "metadata": {},
   "outputs": [],
   "source": [
    "import collections\n",
    "ct = collections.Counter('abracadabra')\n",
    "print(ct)\n",
    "ct.update('aaaaazzz')\n",
    "print(ct)\n",
    "print(ct.most_common(2))"
   ]
  },
  {
   "cell_type": "markdown",
   "metadata": {},
   "source": [
    "## 3.6.4 shelve.Shelf\n",
    "    标准库中的shelve模块持久存储字符串键与（以pickle二进制格式序列化的）Python对象之间的映射。\n",
    "    感觉用处不大不做笔记赘述。\n",
    "\n",
    "## 3.6.5 子类应继承UserDict而不是dict\n",
    "    原因是内置的dict在实现上走了一些捷径，如果继承dict，那就不得不覆盖一些方法。\n",
    "    UserDict没有继承dict，内部有一个dict实例，名为data。"
   ]
  },
  {
   "cell_type": "code",
   "execution_count": null,
   "metadata": {},
   "outputs": [],
   "source": [
    "import collections\n",
    "class StrKeyDict(collections.UserDict):\n",
    "    def __missing__(self, key):\n",
    "        if isinstance(key, str):\n",
    "            raise KeyError(key)\n",
    "        return self[str(key)]\n",
    "    \n",
    "    def __contains__(self, key):\n",
    "        return str(key) in self.data\n",
    "    \n",
    "    def __setitem__(self, key, item):\n",
    "        self.data[str(key)] = item"
   ]
  },
  {
   "cell_type": "markdown",
   "metadata": {},
   "source": [
    "UserDict拓展abc.MutableMapping。有两个方法需要注意。\n",
    "MutableMapping.update方法使用self\\[k\\] = v这种方式插入新值，这样会调用__setitem__方法，而不是直接更新self.data。\n",
    "Mapping.get方法默认通过__getitem__方法来获取值，这样就能触发__missing__方法了。\n",
    "\n",
    "# 3.7 不可变映射\n",
    "    标准库中提供的映射类型都是可变的，不过可以通过变通方案。\n",
    "    types模块中有一个封装类名为MappingProxyType，可以返回一个只读的映射视图。"
   ]
  },
  {
   "cell_type": "code",
   "execution_count": null,
   "metadata": {},
   "outputs": [],
   "source": [
    "from types import MappingProxyType\n",
    "d = {1: 'A'}\n",
    "d_proxy = MappingProxyType(d)\n",
    "print(d_proxy)\n",
    "print(d_proxy[1])\n",
    "try:\n",
    "    d_proxy[2] = 'x'\n",
    "except TypeError as e:\n",
    "    print(e)\n",
    "\n",
    "d[2] = 'B'\n",
    "print(d_proxy)\n",
    "print(d_proxy[2])"
   ]
  },
  {
   "cell_type": "markdown",
   "metadata": {},
   "source": [
    "# 3.8 字典视图\n",
    "    dict的实例方法.keys()、.items()和.values()分别返回dict_keys、dict_items和dict_values类的实例。\n",
    "    这些字典视图是dict内部实现使用的数据结构的只读投影。"
   ]
  },
  {
   "cell_type": "code",
   "execution_count": null,
   "metadata": {},
   "outputs": [],
   "source": [
    "d = dict(a=10, b=20, c=30)\n",
    "values = d.values()\n",
    "print(values)\n",
    "print(len(values))\n",
    "print(list(values))\n",
    "print(reversed(values))\n",
    "# reversed返回视图的一个反向迭代器\n",
    "for v in reversed(values):\n",
    "    print(v)\n",
    "\n",
    "try:\n",
    "    print(values[0])\n",
    "except TypeError as e:\n",
    "    print(e)\n",
    "\n",
    "# 视图动态变化\n",
    "d['z'] = 100\n",
    "print(d)\n",
    "print(values)"
   ]
  },
  {
   "cell_type": "markdown",
   "metadata": {},
   "source": [
    "dict_keys、dict_items 和 dict_values 是内部类，可以得到实例但不能手动创建。\n",
    "\n",
    "# 3.9 dict 的实现方式对实践的影响\n",
    "\n",
    "    Python使用哈希表实现dict。效率很高但是会有些影响。\n",
    "    - 键必须是可哈希的对象。\n",
    "    - 通过键访问项的速度非常快。\n",
    "    - Python3.6开始保留键的顺序。\n",
    "    - dict占用大量内存。\n",
    "    - 为了节省内存，不要在__init__方法之外创建实例属性。原因是实例属性会被存储在一个名为__dict__的字典中，所有实例共享，如果一个新的实例在__init__完之后添加了新的属性，Python就不得不为这个实例的__dict__创建一个新的哈希表。\n",
    "\n",
    "# 3.10 集合论\n",
    "\n",
    "    集合代指set和frozenset两种类型。集合是一组唯一的对象。集合的基本作用是去除重复项。集合的元素必须可哈希。set类型不可哈希。frozenset类型可哈希,所以可以作为set的元素。\n"
   ]
  },
  {
   "cell_type": "code",
   "execution_count": null,
   "metadata": {},
   "outputs": [],
   "source": [
    "l = ['spam', 'spam', 'eggs', 'spam']\n",
    "print(set(l))\n",
    "print(list(set(l)))"
   ]
  },
  {
   "cell_type": "markdown",
   "metadata": {},
   "source": [
    "集合类型通过中缀运算符实现了许多集合运算。\n",
    "a | b 计算并集。 a & b 计算交集。 a - b 计算差集。 a ^ b 计算对称差集。\n",
    "\n",
    "## 3.10.1 set字面量\n",
    "    set字面量的句法很像数学中的集合句法，不过必须使用set()函数来创建空集合。"
   ]
  },
  {
   "cell_type": "code",
   "execution_count": null,
   "metadata": {},
   "outputs": [],
   "source": [
    "s = {1}\n",
    "print(s)\n",
    "print(type(s))\n",
    "\n",
    "s.pop()\n",
    "print(s)"
   ]
  },
  {
   "cell_type": "markdown",
   "metadata": {},
   "source": [
    "fronzenset没有字面量句法，必须调用构造函数来创建。"
   ]
  },
  {
   "cell_type": "code",
   "execution_count": 41,
   "metadata": {},
   "outputs": [
    {
     "data": {
      "text/plain": [
       "frozenset({1, 2, 3})"
      ]
     },
     "execution_count": 41,
     "metadata": {},
     "output_type": "execute_result"
    }
   ],
   "source": [
    "frozenset([1, 2, 3])"
   ]
  },
  {
   "cell_type": "markdown",
   "metadata": {},
   "source": [
    "## 3.10.2 集合推导式"
   ]
  },
  {
   "cell_type": "code",
   "execution_count": null,
   "metadata": {},
   "outputs": [],
   "source": [
    "from unicodedata import name\n",
    "{chr(i) for i in range(32, 256) if 'SIGN' in name(chr(i), '')}"
   ]
  },
  {
   "cell_type": "markdown",
   "metadata": {},
   "source": [
    "# 3.11 集合的实现方式对实践的影响\n",
    "    set和frozenset类型都使用哈希表实现。\n",
    "    - 集合里的元素必须是可哈希的。\n",
    "    - 集合成员测试效率很高。\n",
    "    - 集合的内存开销大。\n",
    "    - 元素的存储顺序取决于添加顺序。\n",
    "    - 往集合里添加元素，可能会改变集合里已有元素的顺序。\n",
    "\n",
    "集合运算以及字典视图的集合运算，见书。举个例子。"
   ]
  },
  {
   "cell_type": "code",
   "execution_count": 46,
   "metadata": {},
   "outputs": [
    {
     "name": "stdout",
     "output_type": "stream",
     "text": [
      "{'b', 'c'}\n",
      "{'a'}\n",
      "{'b', 'i', 'a', 'c'}\n"
     ]
    }
   ],
   "source": [
    "# 快速计算两个dict都有的键\n",
    "d1 = {'a': 1, 'b': 2, 'c': 3}\n",
    "d2 = {'b': 2, 'c': 3, 'd': 4}\n",
    "print(d1.keys() & d2.keys())\n",
    "\n",
    "# 字典视图兼容set实例\n",
    "s = {'a', 'i'}\n",
    "print(d1.keys() & s)\n",
    "print(d1.keys() | s)"
   ]
  }
 ],
 "metadata": {
  "kernelspec": {
   "display_name": "Python 3",
   "language": "python",
   "name": "python3"
  },
  "language_info": {
   "codemirror_mode": {
    "name": "ipython",
    "version": 3
   },
   "file_extension": ".py",
   "mimetype": "text/x-python",
   "name": "python",
   "nbconvert_exporter": "python",
   "pygments_lexer": "ipython3",
   "version": "3.11.5"
  }
 },
 "nbformat": 4,
 "nbformat_minor": 2
}
